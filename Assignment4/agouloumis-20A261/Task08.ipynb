{
 "cells": [
  {
   "cell_type": "markdown",
   "metadata": {
    "id": "rb2ewz-dC6GC"
   },
   "source": [
    "**Task 08: Completing missing data**"
   ]
  },
  {
   "cell_type": "code",
   "execution_count": 1,
   "metadata": {
    "id": "0sQG2Y915Isp"
   },
   "outputs": [
    {
     "name": "stdout",
     "output_type": "stream",
     "text": [
      "Requirement already satisfied: rdflib in c:\\anaconda3\\lib\\site-packages (5.0.0)\n",
      "Requirement already satisfied: pyparsing in c:\\anaconda3\\lib\\site-packages (from rdflib) (2.4.6)\n",
      "Requirement already satisfied: six in c:\\anaconda3\\lib\\site-packages (from rdflib) (1.14.0)\n",
      "Requirement already satisfied: isodate in c:\\anaconda3\\lib\\site-packages (from rdflib) (0.6.0)\n"
     ]
    }
   ],
   "source": [
    "!pip install rdflib\n",
    "github_storage = \"https://raw.githubusercontent.com/FacultadInformatica-LinkedData/Curso2020-2021/master/Assignment4/\""
   ]
  },
  {
   "cell_type": "code",
   "execution_count": 2,
   "metadata": {
    "id": "Jb4QeLue5NLr"
   },
   "outputs": [
    {
     "data": {
      "text/plain": [
       "<Graph identifier=Nb12b6178acb14eab83019f025213ff13 (<class 'rdflib.graph.Graph'>)>"
      ]
     },
     "execution_count": 2,
     "metadata": {},
     "output_type": "execute_result"
    }
   ],
   "source": [
    "from rdflib import Graph, Namespace, Literal, URIRef\n",
    "from rdflib.namespace import RDF, RDFS\n",
    "g1 = Graph()\n",
    "g2 = Graph()\n",
    "g1.namespace_manager.bind('ns', Namespace(\"http://data.org#\"), override=False)\n",
    "g2.namespace_manager.bind('ns', Namespace(\"http://data.org#\"), override=False)\n",
    "g1.parse(github_storage+\"resources/data01.rdf\", format=\"xml\")\n",
    "g2.parse(github_storage+\"resources/data02.rdf\", format=\"xml\")"
   ]
  },
  {
   "cell_type": "markdown",
   "metadata": {
    "id": "kxxKghwBElOm"
   },
   "source": [
    "Task: list all the elements of the class Person in the first graph (data01.rdf) and complete the fields (given name, family name and email) that may be missing with the data from the second graph (data02.rdf). You can use SPARQL queries or iterate the graph, or both."
   ]
  },
  {
   "cell_type": "code",
   "execution_count": 7,
   "metadata": {
    "scrolled": false
   },
   "outputs": [
    {
     "name": "stdout",
     "output_type": "stream",
     "text": [
      "@prefix ns: <http://data.org#> .\n",
      "@prefix rdfs: <http://www.w3.org/2000/01/rdf-schema#> .\n",
      "@prefix vcard-rdf: <http://www.w3.org/2001/vcard-rdf/3.0#> .\n",
      "@prefix xsd: <http://www.w3.org/2001/XMLSchema#> .\n",
      "\n",
      "ns:Person a rdfs:Class .\n",
      "\n",
      "ns:HarryPotter a ns:Person ;\n",
      "    vcard-rdf:EMAIL \"hpotter@hogwarts.org\"^^xsd:string ;\n",
      "    vcard-rdf:FN \"Harry Potter\"^^xsd:string ;\n",
      "    vcard-rdf:Family \"Potter\"^^xsd:string ;\n",
      "    vcard-rdf:Given \"Harry\"^^xsd:string .\n",
      "\n",
      "ns:JohnDoe a ns:Person ;\n",
      "    vcard-rdf:EMAIL \"doe@data.org\"^^xsd:string ;\n",
      "    vcard-rdf:Family \"Doe\"^^xsd:string ;\n",
      "    vcard-rdf:Given \"John\"^^xsd:string .\n",
      "\n",
      "ns:JohnSmith a ns:Person ;\n",
      "    vcard-rdf:EMAIL \"j.smith@data.org\"^^xsd:string ;\n",
      "    vcard-rdf:Family \"Smith\"^^xsd:string ;\n",
      "    vcard-rdf:Given \"John\"^^xsd:string .\n",
      "\n",
      "ns:SaraJones a ns:Person ;\n",
      "    vcard-rdf:EMAIL \"sara.jones@data.org\"^^xsd:string ;\n",
      "    vcard-rdf:Family \"Jones\"^^xsd:string ;\n",
      "    vcard-rdf:Given \"Sara\"^^xsd:string .\n",
      "\n",
      "vcard-rdf:EMAIL a rdfs:Datatype ;\n",
      "    rdfs:range xsd:string .\n",
      "\n",
      "vcard-rdf:Family a rdfs:Property ;\n",
      "    rdfs:range xsd:string .\n",
      "\n",
      "vcard-rdf:Given a rdfs:Datatype ;\n",
      "    rdfs:range xsd:string .\n",
      "\n",
      "\n"
     ]
    }
   ],
   "source": [
    "print(g1.serialize(format=\"ttl\").decode(\"UTF-8\"))"
   ]
  },
  {
   "cell_type": "code",
   "execution_count": 4,
   "metadata": {},
   "outputs": [
    {
     "name": "stdout",
     "output_type": "stream",
     "text": [
      "@prefix ns: <http://data.org#> .\n",
      "@prefix rdfs: <http://www.w3.org/2000/01/rdf-schema#> .\n",
      "@prefix vcard-rdf: <http://www.w3.org/2001/vcard-rdf/3.0#> .\n",
      "@prefix xsd: <http://www.w3.org/2001/XMLSchema#> .\n",
      "\n",
      "ns:Person a rdfs:Class .\n",
      "\n",
      "ns:HarryPotter a ns:Person ;\n",
      "    vcard-rdf:EMAIL \"hpotter@hogwarts.org\"^^xsd:string ;\n",
      "    vcard-rdf:FN \"Harry Potter\"^^xsd:string ;\n",
      "    vcard-rdf:Given \"Harry\"^^xsd:string .\n",
      "\n",
      "ns:JohnDoe a ns:Person ;\n",
      "    vcard-rdf:EMAIL \"doe@data.org\"^^xsd:string ;\n",
      "    vcard-rdf:Family \"Doe\"^^xsd:string ;\n",
      "    vcard-rdf:Given \"John\"^^xsd:string .\n",
      "\n",
      "ns:JohnSmith a ns:Person ;\n",
      "    vcard-rdf:EMAIL \"j.smith@data.org\"^^xsd:string ;\n",
      "    vcard-rdf:Family \"Smith\"^^xsd:string ;\n",
      "    vcard-rdf:Given \"John\"^^xsd:string .\n",
      "\n",
      "ns:SaraJones a ns:Person ;\n",
      "    vcard-rdf:EMAIL \"sara.jones@data.org\"^^xsd:string ;\n",
      "    vcard-rdf:Family \"Jones\"^^xsd:string ;\n",
      "    vcard-rdf:Given \"Sara\"^^xsd:string .\n",
      "\n",
      "<http://www.w3.org/2001/vcard-rdf/3.0/EMAIL> a rdfs:Datatype ;\n",
      "    rdfs:range xsd:string .\n",
      "\n",
      "<http://www.w3.org/2001/vcard-rdf/3.0/FN> a rdfs:Datatype ;\n",
      "    rdfs:range xsd:string .\n",
      "\n",
      "<http://www.w3.org/2001/vcard-rdf/3.0/Family> a rdfs:Property ;\n",
      "    rdfs:range xsd:string .\n",
      "\n",
      "<http://www.w3.org/2001/vcard-rdf/3.0/Given> a rdfs:Datatype ;\n",
      "    rdfs:range xsd:string .\n",
      "\n",
      "\n"
     ]
    }
   ],
   "source": [
    "print(g2.serialize(format=\"ttl\").decode(\"UTF-8\"))"
   ]
  },
  {
   "cell_type": "markdown",
   "metadata": {},
   "source": [
    "**List of elements of the class Person in the first graph.**"
   ]
  },
  {
   "cell_type": "code",
   "execution_count": 5,
   "metadata": {},
   "outputs": [
    {
     "name": "stdout",
     "output_type": "stream",
     "text": [
      "(rdflib.term.URIRef('http://www.w3.org/2001/vcard-rdf/3.0#Given'),)\n",
      "(rdflib.term.URIRef('http://www.w3.org/2001/vcard-rdf/3.0#EMAIL'),)\n",
      "(rdflib.term.URIRef('http://www.w3.org/2001/vcard-rdf/3.0#Family'),)\n"
     ]
    }
   ],
   "source": [
    "from rdflib.plugins.sparql import prepareQuery\n",
    "\n",
    "ns = Namespace(\"http://data.org#\")\n",
    "\n",
    "q1 = prepareQuery('''\n",
    "  SELECT DISTINCT ?y\n",
    "  WHERE\n",
    "  { \n",
    "    ?x a/rdfs:subClassOf* ns:Person.\n",
    "    ?x ?y ?z.\n",
    "    FILTER (?y != rdf:type)\n",
    "  }\n",
    "  ''',\n",
    "  initNs = {\"ns\": ns}\n",
    ")\n",
    "\n",
    "\n",
    "for y in g1.query(q1):\n",
    " print(y)"
   ]
  },
  {
   "cell_type": "markdown",
   "metadata": {},
   "source": [
    "**Completing the missing fields.**"
   ]
  },
  {
   "cell_type": "code",
   "execution_count": 6,
   "metadata": {},
   "outputs": [],
   "source": [
    "from rdflib.plugins.sparql import prepareQuery\n",
    "\n",
    "ns = Namespace(\"http://data.org#\")\n",
    "\n",
    "q1 = prepareQuery('''\n",
    "  SELECT DISTINCT ?x ?y ?z\n",
    "  WHERE\n",
    "  { \n",
    "    ?x a/rdfs:subClassOf* ns:Person.\n",
    "    ?x ?y ?z.\n",
    "    FILTER (?y != rdf:type)\n",
    "  }\n",
    "  ''',\n",
    "  initNs = {\"ns\": ns}\n",
    ")\n",
    "\n",
    "\n",
    "for x,y,z in g2.query(q1):\n",
    "  g1.add((x,y,z))"
   ]
  }
 ],
 "metadata": {
  "colab": {
   "collapsed_sections": [],
   "name": "Task08.ipynb",
   "provenance": []
  },
  "kernelspec": {
   "display_name": "Python 3",
   "language": "python",
   "name": "python3"
  },
  "language_info": {
   "codemirror_mode": {
    "name": "ipython",
    "version": 3
   },
   "file_extension": ".py",
   "mimetype": "text/x-python",
   "name": "python",
   "nbconvert_exporter": "python",
   "pygments_lexer": "ipython3",
   "version": "3.7.4"
  }
 },
 "nbformat": 4,
 "nbformat_minor": 1
}
