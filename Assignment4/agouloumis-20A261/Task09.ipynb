{
 "cells": [
  {
   "cell_type": "markdown",
   "metadata": {
    "id": "wIhJ69byU2Ad"
   },
   "source": [
    "**Task 09: Data linking**"
   ]
  },
  {
   "cell_type": "code",
   "execution_count": 1,
   "metadata": {
    "id": "0sQG2Y915Isp"
   },
   "outputs": [
    {
     "name": "stdout",
     "output_type": "stream",
     "text": [
      "Requirement already satisfied: rdflib in c:\\anaconda3\\lib\\site-packages (5.0.0)\n",
      "Requirement already satisfied: pyparsing in c:\\anaconda3\\lib\\site-packages (from rdflib) (2.4.6)\n",
      "Requirement already satisfied: six in c:\\anaconda3\\lib\\site-packages (from rdflib) (1.14.0)\n",
      "Requirement already satisfied: isodate in c:\\anaconda3\\lib\\site-packages (from rdflib) (0.6.0)\n"
     ]
    }
   ],
   "source": [
    "!pip install rdflib\n",
    "github_storage = \"https://raw.githubusercontent.com/FacultadInformatica-LinkedData/Curso2020-2021/master/Assignment4/\""
   ]
  },
  {
   "cell_type": "code",
   "execution_count": 2,
   "metadata": {
    "id": "Jb4QeLue5NLr"
   },
   "outputs": [
    {
     "data": {
      "text/plain": [
       "<Graph identifier=Ne8795b61233946f5900c6eee484cb2bd (<class 'rdflib.graph.Graph'>)>"
      ]
     },
     "execution_count": 2,
     "metadata": {},
     "output_type": "execute_result"
    }
   ],
   "source": [
    "from rdflib import Graph, Namespace, Literal, URIRef\n",
    "from rdflib import RDF, OWL, RDFS\n",
    "g1 = Graph()\n",
    "g2 = Graph()\n",
    "g3 = Graph()\n",
    "g1.parse(github_storage+\"resources/data03.rdf\", format=\"xml\")\n",
    "g2.parse(github_storage+\"resources/data04.rdf\", format=\"xml\")"
   ]
  },
  {
   "cell_type": "markdown",
   "metadata": {
    "id": "5wfBZiQSU827"
   },
   "source": [
    "Search for individuals in the two graphs and link them using the OWL: sameAs property, insert these matches in g3. We consider that two individuals are the same if they have the same nickname and family name. Keep in mind that the URIs do not have to be the same for the same individual in the two graphs."
   ]
  },
  {
   "cell_type": "code",
   "execution_count": 3,
   "metadata": {},
   "outputs": [
    {
     "name": "stdout",
     "output_type": "stream",
     "text": [
      "@prefix : <http://data.three.org#> .\n",
      "@prefix rdfs: <http://www.w3.org/2000/01/rdf-schema#> .\n",
      "@prefix vcard-rdf: <http://www.w3.org/2001/vcard-rdf/3.0#> .\n",
      "@prefix xsd: <http://www.w3.org/2001/XMLSchema#> .\n",
      "\n",
      ":Person a rdfs:Class .\n",
      "\n",
      ":HarryPotter a :Person ;\n",
      "    vcard-rdf:FN \"Harry Potter\"^^xsd:string ;\n",
      "    vcard-rdf:Given \"Harry\"^^xsd:string .\n",
      "\n",
      ":JohnDoe a :Person ;\n",
      "    vcard-rdf:FN \"John Doe\"^^xsd:string ;\n",
      "    vcard-rdf:Family \"Doe\"^^xsd:string ;\n",
      "    vcard-rdf:Given \"John\"^^xsd:string .\n",
      "\n",
      ":JohnSmith a :Person ;\n",
      "    vcard-rdf:FN \"John Smith\"^^xsd:string ;\n",
      "    vcard-rdf:Family \"Smith\"^^xsd:string ;\n",
      "    vcard-rdf:Given \"John\"^^xsd:string .\n",
      "\n",
      ":SaraJones a :Person ;\n",
      "    vcard-rdf:FN \"Sara Jones\"^^xsd:string ;\n",
      "    vcard-rdf:Family \"Jones\"^^xsd:string ;\n",
      "    vcard-rdf:Given \"Sara\"^^xsd:string .\n",
      "\n",
      "<http://www.w3.org/2001/vcard-rdf/3.0/FN> a rdfs:Datatype ;\n",
      "    rdfs:range xsd:string .\n",
      "\n",
      "<http://www.w3.org/2001/vcard-rdf/3.0/Family> a rdfs:Property ;\n",
      "    rdfs:range xsd:string .\n",
      "\n",
      "<http://www.w3.org/2001/vcard-rdf/3.0/Given> a rdfs:Datatype ;\n",
      "    rdfs:range xsd:string .\n",
      "\n",
      "\n"
     ]
    }
   ],
   "source": [
    "print(g1.serialize(format=\"ttl\").decode(\"UTF-8\"))"
   ]
  },
  {
   "cell_type": "code",
   "execution_count": 4,
   "metadata": {},
   "outputs": [
    {
     "name": "stdout",
     "output_type": "stream",
     "text": [
      "@prefix : <http://data.four.org#> .\n",
      "@prefix rdfs: <http://www.w3.org/2000/01/rdf-schema#> .\n",
      "@prefix vcard-rdf: <http://www.w3.org/2001/vcard-rdf/3.0#> .\n",
      "@prefix xsd: <http://www.w3.org/2001/XMLSchema#> .\n",
      "\n",
      ":Person a rdfs:Class .\n",
      "\n",
      ":0001 a :Person ;\n",
      "    vcard-rdf:FN \"Sara Jones\"^^xsd:string ;\n",
      "    vcard-rdf:Family \"Jones\"^^xsd:string ;\n",
      "    vcard-rdf:Given \"Sara\"^^xsd:string .\n",
      "\n",
      ":0002 a :Person ;\n",
      "    vcard-rdf:FN \"John Smith\"^^xsd:string ;\n",
      "    vcard-rdf:Family \"Smith\"^^xsd:string ;\n",
      "    vcard-rdf:Given \"Jonathan\"^^xsd:string .\n",
      "\n",
      ":0003 a :Person ;\n",
      "    vcard-rdf:FN \"Harry Potter\"^^xsd:string ;\n",
      "    vcard-rdf:Family \"Potter\"^^xsd:string ;\n",
      "    vcard-rdf:Given \"Harry\"^^xsd:string .\n",
      "\n",
      ":0004 a :Person ;\n",
      "    vcard-rdf:FN \"Tim Berners Lee\"^^xsd:string ;\n",
      "    vcard-rdf:Family \"Berners Lee\"^^xsd:string ;\n",
      "    vcard-rdf:Given \"Tim\"^^xsd:string .\n",
      "\n",
      ":0005 a :Person ;\n",
      "    vcard-rdf:FN \"John Doe\"^^xsd:string ;\n",
      "    vcard-rdf:Family \"Doe\"^^xsd:string ;\n",
      "    vcard-rdf:Given \"John\"^^xsd:string .\n",
      "\n",
      "<http://www.w3.org/2001/vcard-rdf/3.0/FN> a rdfs:Datatype ;\n",
      "    rdfs:range xsd:string .\n",
      "\n",
      "<http://www.w3.org/2001/vcard-rdf/3.0/Family> a rdfs:Property ;\n",
      "    rdfs:range xsd:string .\n",
      "\n",
      "<http://www.w3.org/2001/vcard-rdf/3.0/Given> a rdfs:Datatype ;\n",
      "    rdfs:range xsd:string .\n",
      "\n",
      "\n"
     ]
    }
   ],
   "source": [
    "print(g2.serialize(format=\"ttl\").decode(\"UTF-8\"))"
   ]
  },
  {
   "cell_type": "code",
   "execution_count": 5,
   "metadata": {},
   "outputs": [],
   "source": [
    "ns1 = Namespace(\"http://data.three.org#\")\n",
    "ns2 = Namespace (\"http://data.four.org#\")\n",
    "vcard = Namespace (\"http://www.w3.org/2001/vcard-rdf/3.0#\")\n",
    "\n",
    "for x1,y1,z1 in g1.triples((None,RDF.type,ns1.Person)):\n",
    "  for x2,y2,z2 in g2.triples((None,RDF.type,ns2.Person)):\n",
    "    if g2.value(x2,vcard.Given,None)==g1.value(x1,vcard.Given,None) and g2.value(x2,vcard.Family,None)==g1.value(x1,vcard.Family,None):\n",
    "      g3.add((x1, OWL.sameAs, x2))"
   ]
  },
  {
   "cell_type": "code",
   "execution_count": 6,
   "metadata": {},
   "outputs": [
    {
     "name": "stdout",
     "output_type": "stream",
     "text": [
      "@prefix ns1: <http://www.w3.org/2002/07/owl#> .\n",
      "\n",
      "<http://data.three.org#JohnDoe> ns1:sameAs <http://data.four.org#0005> .\n",
      "\n",
      "<http://data.three.org#SaraJones> ns1:sameAs <http://data.four.org#0001> .\n",
      "\n",
      "\n"
     ]
    }
   ],
   "source": [
    "print(g3.serialize(format=\"ttl\").decode(\"UTF-8\"))"
   ]
  }
 ],
 "metadata": {
  "colab": {
   "collapsed_sections": [],
   "name": "Task09.ipynb",
   "provenance": []
  },
  "kernelspec": {
   "display_name": "Python 3",
   "language": "python",
   "name": "python3"
  },
  "language_info": {
   "codemirror_mode": {
    "name": "ipython",
    "version": 3
   },
   "file_extension": ".py",
   "mimetype": "text/x-python",
   "name": "python",
   "nbconvert_exporter": "python",
   "pygments_lexer": "ipython3",
   "version": "3.7.4"
  }
 },
 "nbformat": 4,
 "nbformat_minor": 1
}
