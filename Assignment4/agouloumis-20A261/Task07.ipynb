{
 "cells": [
  {
   "cell_type": "markdown",
   "metadata": {
    "id": "nOOPLCHF7hLB"
   },
   "source": [
    "**Task 07: Querying RDF(s)**"
   ]
  },
  {
   "cell_type": "code",
   "execution_count": 1,
   "metadata": {
    "id": "Yl9npCt8n6m-"
   },
   "outputs": [
    {
     "name": "stdout",
     "output_type": "stream",
     "text": [
      "Requirement already satisfied: rdflib in c:\\anaconda3\\lib\\site-packages (5.0.0)\n",
      "Requirement already satisfied: six in c:\\anaconda3\\lib\\site-packages (from rdflib) (1.14.0)\n",
      "Requirement already satisfied: pyparsing in c:\\anaconda3\\lib\\site-packages (from rdflib) (2.4.6)\n",
      "Requirement already satisfied: isodate in c:\\anaconda3\\lib\\site-packages (from rdflib) (0.6.0)\n"
     ]
    }
   ],
   "source": [
    "!pip install rdflib \n",
    "github_storage = \"https://raw.githubusercontent.com/FacultadInformatica-LinkedData/Curso2020-2021/master/Assignment4\""
   ]
  },
  {
   "cell_type": "markdown",
   "metadata": {
    "id": "XY7aPc86Bqoo"
   },
   "source": [
    "Read the RDF file"
   ]
  },
  {
   "cell_type": "code",
   "execution_count": 2,
   "metadata": {
    "id": "9ERh415on7kF"
   },
   "outputs": [
    {
     "data": {
      "text/plain": [
       "<Graph identifier=N9d0609ae88fd4f6fa666094cdc1ffb36 (<class 'rdflib.graph.Graph'>)>"
      ]
     },
     "execution_count": 2,
     "metadata": {},
     "output_type": "execute_result"
    }
   ],
   "source": [
    "from rdflib import Graph, Namespace, Literal\n",
    "from rdflib.namespace import RDF, RDFS\n",
    "g = Graph()\n",
    "g.namespace_manager.bind('ns', Namespace(\"http://somewhere#\"), override=False)\n",
    "g.namespace_manager.bind('vcard', Namespace(\"http://www.w3.org/2001/vcard-rdf/3.0#\"), override=False)\n",
    "g.parse(github_storage+\"/resources/example6.rdf\", format=\"xml\")"
   ]
  },
  {
   "cell_type": "code",
   "execution_count": 3,
   "metadata": {},
   "outputs": [
    {
     "name": "stdout",
     "output_type": "stream",
     "text": [
      "@prefix ns: <http://somewhere#> .\n",
      "@prefix rdfs: <http://www.w3.org/2000/01/rdf-schema#> .\n",
      "@prefix vcard-rdf: <http://somewhere#http://www.w3.org/2001/vcard-rdf/3.0/> .\n",
      "@prefix xsd: <http://www.w3.org/2001/XMLSchema#> .\n",
      "\n",
      "ns:Person a rdfs:Class .\n",
      "\n",
      "ns:PhDstudent a rdfs:Class ;\n",
      "    rdfs:subClassOf ns:Researcher .\n",
      "\n",
      "ns:Researcher a rdfs:Class ;\n",
      "    rdfs:subClassOf ns:Person .\n",
      "\n",
      "ns:University a rdfs:Class .\n",
      "\n",
      "ns:JaneSmith a ns:Researcher ;\n",
      "    vcard-rdf:FN \"jane Smith\"^^xsd:string ;\n",
      "    vcard-rdf:Family \"Smith\"^^xsd:string ;\n",
      "    vcard-rdf:Given \"Jane\"^^xsd:string .\n",
      "\n",
      "ns:JohnSmith a ns:Person ;\n",
      "    vcard-rdf:FN \"John Smith\"^^xsd:string ;\n",
      "    vcard-rdf:Family \"Smith\"^^xsd:string ;\n",
      "    vcard-rdf:Given \"John\"^^xsd:string .\n",
      "\n",
      "ns:SaraJones a ns:Person ;\n",
      "    vcard-rdf:FN \"Sara Jones\"^^xsd:string ;\n",
      "    vcard-rdf:Family \"Jones\"^^xsd:string ;\n",
      "    vcard-rdf:Given \"Sara\"^^xsd:string .\n",
      "\n",
      "ns:UPM a ns:University .\n",
      "\n",
      "vcard-rdf:FN a rdfs:Datatype ;\n",
      "    rdfs:range xsd:string .\n",
      "\n",
      "vcard-rdf:Family a rdfs:Property ;\n",
      "    rdfs:range xsd:string .\n",
      "\n",
      "vcard-rdf:Given a rdfs:Datatype ;\n",
      "    rdfs:range xsd:string .\n",
      "\n",
      "\n"
     ]
    }
   ],
   "source": [
    "print(g.serialize(format=\"ttl\").decode(\"UTF-8\"))"
   ]
  },
  {
   "cell_type": "markdown",
   "metadata": {
    "id": "qp1oe2Eddsvo"
   },
   "source": [
    "**TASK 7.1: List all subclasses of \"Person\" with RDFLib and SPARQL**"
   ]
  },
  {
   "cell_type": "code",
   "execution_count": 4,
   "metadata": {},
   "outputs": [
    {
     "name": "stdout",
     "output_type": "stream",
     "text": [
      "(rdflib.term.URIRef('http://somewhere#Researcher'),)\n",
      "(rdflib.term.URIRef('http://somewhere#PhDstudent'),)\n"
     ]
    }
   ],
   "source": [
    "from rdflib.plugins.sparql import prepareQuery\n",
    "\n",
    "ns = Namespace(\"http://somewhere#\")\n",
    "VCARD = Namespace(\"http://www.w3.org/2001/vcard-rdf/3.0#\")\n",
    "\n",
    "q1 = prepareQuery('''\n",
    "  SELECT ?x\n",
    "  WHERE\n",
    "  { \n",
    "    ?x rdfs:subClassOf/rdfs:subClassOf* ns:Person. \n",
    "  }\n",
    "  ''',\n",
    "  initNs = {\"ns\": ns}\n",
    ")\n",
    "\n",
    "\n",
    "for x in g.query(q1):\n",
    "  print(x)"
   ]
  },
  {
   "cell_type": "code",
   "execution_count": 5,
   "metadata": {},
   "outputs": [
    {
     "name": "stdout",
     "output_type": "stream",
     "text": [
      "http://somewhere#Researcher\n",
      "http://somewhere#PhDstudent\n"
     ]
    }
   ],
   "source": [
    "for x1,y1,z1 in g.triples((None, RDFS.subClassOf, ns.Person)):\n",
    "    print(x1)\n",
    "    for x2,y2,z2 in g.triples((None, RDFS.subClassOf, x1)):\n",
    "      print(x2)"
   ]
  },
  {
   "cell_type": "markdown",
   "metadata": {
    "id": "gM3DASkTQQ5Y"
   },
   "source": [
    "**TASK 7.2: List all individuals of \"Person\" with RDFLib and SPARQL (remember the subClasses)**\n"
   ]
  },
  {
   "cell_type": "code",
   "execution_count": 6,
   "metadata": {},
   "outputs": [
    {
     "name": "stdout",
     "output_type": "stream",
     "text": [
      "(rdflib.term.URIRef('http://somewhere#JohnSmith'),)\n",
      "(rdflib.term.URIRef('http://somewhere#SaraJones'),)\n",
      "(rdflib.term.URIRef('http://somewhere#JaneSmith'),)\n"
     ]
    }
   ],
   "source": [
    "from rdflib.plugins.sparql import prepareQuery\n",
    "\n",
    "ns = Namespace(\"http://somewhere#\")\n",
    "VCARD = Namespace(\"http://www.w3.org/2001/vcard-rdf/3.0#\")\n",
    "\n",
    "q1 = prepareQuery('''\n",
    "  SELECT ?x\n",
    "  WHERE\n",
    "  { \n",
    "    ?x a/rdfs:subClassOf* ns:Person. \n",
    "  }\n",
    "  ''',\n",
    "  initNs = {\"ns\": ns}\n",
    ")\n",
    "\n",
    "\n",
    "for r in g.query(q1):\n",
    "  print(r)"
   ]
  },
  {
   "cell_type": "code",
   "execution_count": 7,
   "metadata": {},
   "outputs": [
    {
     "name": "stdout",
     "output_type": "stream",
     "text": [
      "http://somewhere#JaneSmith\n",
      "http://somewhere#JohnSmith\n",
      "http://somewhere#SaraJones\n"
     ]
    }
   ],
   "source": [
    "for x1,y1,z1 in g.triples((None, RDFS.subClassOf, ns.Person)):\n",
    "    for x2,y2,z2 in g.triples((None, RDF.type, x1)):\n",
    "        print(x2)\n",
    "        \n",
    "for x3,y3,z3 in g.triples((None, RDF.type, ns.Person)):\n",
    "    print(x3)"
   ]
  },
  {
   "cell_type": "markdown",
   "metadata": {
    "id": "MXBqtBkJd22I"
   },
   "source": [
    "**TASK 7.3: List all individuals of \"Person\" and all their properties including their class with RDFLib and SPARQL**\n"
   ]
  },
  {
   "cell_type": "code",
   "execution_count": 8,
   "metadata": {},
   "outputs": [
    {
     "name": "stdout",
     "output_type": "stream",
     "text": [
      "(rdflib.term.URIRef('http://somewhere#JohnSmith'), rdflib.term.URIRef('http://www.w3.org/1999/02/22-rdf-syntax-ns#type'))\n",
      "(rdflib.term.URIRef('http://somewhere#JohnSmith'), rdflib.term.URIRef('http://somewhere#http://www.w3.org/2001/vcard-rdf/3.0/Family'))\n",
      "(rdflib.term.URIRef('http://somewhere#JohnSmith'), rdflib.term.URIRef('http://somewhere#http://www.w3.org/2001/vcard-rdf/3.0/FN'))\n",
      "(rdflib.term.URIRef('http://somewhere#JohnSmith'), rdflib.term.URIRef('http://somewhere#http://www.w3.org/2001/vcard-rdf/3.0/Given'))\n",
      "(rdflib.term.URIRef('http://somewhere#SaraJones'), rdflib.term.URIRef('http://somewhere#http://www.w3.org/2001/vcard-rdf/3.0/Given'))\n",
      "(rdflib.term.URIRef('http://somewhere#SaraJones'), rdflib.term.URIRef('http://somewhere#http://www.w3.org/2001/vcard-rdf/3.0/Family'))\n",
      "(rdflib.term.URIRef('http://somewhere#SaraJones'), rdflib.term.URIRef('http://somewhere#http://www.w3.org/2001/vcard-rdf/3.0/FN'))\n",
      "(rdflib.term.URIRef('http://somewhere#SaraJones'), rdflib.term.URIRef('http://www.w3.org/1999/02/22-rdf-syntax-ns#type'))\n",
      "(rdflib.term.URIRef('http://somewhere#JaneSmith'), rdflib.term.URIRef('http://www.w3.org/1999/02/22-rdf-syntax-ns#type'))\n",
      "(rdflib.term.URIRef('http://somewhere#JaneSmith'), rdflib.term.URIRef('http://somewhere#http://www.w3.org/2001/vcard-rdf/3.0/Given'))\n",
      "(rdflib.term.URIRef('http://somewhere#JaneSmith'), rdflib.term.URIRef('http://somewhere#http://www.w3.org/2001/vcard-rdf/3.0/FN'))\n",
      "(rdflib.term.URIRef('http://somewhere#JaneSmith'), rdflib.term.URIRef('http://somewhere#http://www.w3.org/2001/vcard-rdf/3.0/Family'))\n"
     ]
    }
   ],
   "source": [
    "from rdflib.plugins.sparql import prepareQuery\n",
    "\n",
    "ns = Namespace(\"http://somewhere#\")\n",
    "VCARD = Namespace(\"http://www.w3.org/2001/vcard-rdf/3.0#\")\n",
    "\n",
    "q1 = prepareQuery('''\n",
    "  SELECT ?x ?y\n",
    "  WHERE\n",
    "  { \n",
    "    ?x a/rdfs:subClassOf* ns:Person.\n",
    "    ?x ?y ?z.\n",
    "  }\n",
    "  ''',\n",
    "  initNs = {\"ns\": ns}\n",
    ")\n",
    "\n",
    "\n",
    "for r in g.query(q1):\n",
    "  print(r)"
   ]
  },
  {
   "cell_type": "code",
   "execution_count": 31,
   "metadata": {},
   "outputs": [
    {
     "name": "stdout",
     "output_type": "stream",
     "text": [
      "http://somewhere#JohnSmith http://www.w3.org/1999/02/22-rdf-syntax-ns#type\n",
      "http://somewhere#JohnSmith http://somewhere#http://www.w3.org/2001/vcard-rdf/3.0/Family\n",
      "http://somewhere#JohnSmith http://somewhere#http://www.w3.org/2001/vcard-rdf/3.0/FN\n",
      "http://somewhere#JohnSmith http://somewhere#http://www.w3.org/2001/vcard-rdf/3.0/Given\n",
      "http://somewhere#SaraJones http://somewhere#http://www.w3.org/2001/vcard-rdf/3.0/Given\n",
      "http://somewhere#SaraJones http://somewhere#http://www.w3.org/2001/vcard-rdf/3.0/Family\n",
      "http://somewhere#SaraJones http://somewhere#http://www.w3.org/2001/vcard-rdf/3.0/FN\n",
      "http://somewhere#SaraJones http://www.w3.org/1999/02/22-rdf-syntax-ns#type\n",
      "http://somewhere#JaneSmith http://www.w3.org/1999/02/22-rdf-syntax-ns#type\n",
      "http://somewhere#JaneSmith http://somewhere#http://www.w3.org/2001/vcard-rdf/3.0/Given\n",
      "http://somewhere#JaneSmith http://somewhere#http://www.w3.org/2001/vcard-rdf/3.0/FN\n",
      "http://somewhere#JaneSmith http://somewhere#http://www.w3.org/2001/vcard-rdf/3.0/Family\n"
     ]
    }
   ],
   "source": [
    "for x1,y1,z1 in g.triples((None, RDF.type, ns.Person)):\n",
    "    for x2,y2,z2 in g.triples((x1, None, None)):\n",
    "        print(x2,y2)\n",
    "        \n",
    "for x1,y1,z1 in g.triples((None, RDF.type/RDFS.subClassOf, ns.Person)):\n",
    "    for x2,y2,z2 in g.triples((x1, None, None)):\n",
    "        print(x2,y2)"
   ]
  }
 ],
 "metadata": {
  "colab": {
   "collapsed_sections": [],
   "name": "Task07.ipynb",
   "provenance": []
  },
  "kernelspec": {
   "display_name": "Python 3",
   "language": "python",
   "name": "python3"
  },
  "language_info": {
   "codemirror_mode": {
    "name": "ipython",
    "version": 3
   },
   "file_extension": ".py",
   "mimetype": "text/x-python",
   "name": "python",
   "nbconvert_exporter": "python",
   "pygments_lexer": "ipython3",
   "version": "3.7.4"
  }
 },
 "nbformat": 4,
 "nbformat_minor": 1
}
