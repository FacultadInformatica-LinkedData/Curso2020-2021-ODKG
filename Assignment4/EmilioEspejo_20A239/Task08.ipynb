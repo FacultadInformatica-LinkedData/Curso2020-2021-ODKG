{
 "cells": [
  {
   "cell_type": "markdown",
   "metadata": {
    "id": "rb2ewz-dC6GC"
   },
   "source": [
    "**Task 08: Completing missing data**"
   ]
  },
  {
   "cell_type": "code",
   "execution_count": 8,
   "metadata": {
    "id": "0sQG2Y915Isp"
   },
   "outputs": [
    {
     "name": "stdout",
     "output_type": "stream",
     "text": [
      "Requirement already satisfied: rdflib in c:\\users\\emilio\\anaconda3\\lib\\site-packages (5.0.0)\n",
      "Requirement already satisfied: isodate in c:\\users\\emilio\\anaconda3\\lib\\site-packages (from rdflib) (0.6.0)\n",
      "Requirement already satisfied: pyparsing in c:\\users\\emilio\\anaconda3\\lib\\site-packages (from rdflib) (2.4.6)\n",
      "Requirement already satisfied: six in c:\\users\\emilio\\anaconda3\\lib\\site-packages (from rdflib) (1.14.0)\n"
     ]
    }
   ],
   "source": [
    "!pip install rdflib\n",
    "github_storage = \"https://raw.githubusercontent.com/FacultadInformatica-LinkedData/Curso2020-2021/master/Assignment4/\""
   ]
  },
  {
   "cell_type": "code",
   "execution_count": 11,
   "metadata": {
    "id": "Jb4QeLue5NLr"
   },
   "outputs": [
    {
     "data": {
      "text/plain": [
       "<Graph identifier=N667ef771e3ae4e83b2e2a15433a684c1 (<class 'rdflib.graph.Graph'>)>"
      ]
     },
     "execution_count": 11,
     "metadata": {},
     "output_type": "execute_result"
    }
   ],
   "source": [
    "from rdflib import Graph, Namespace, Literal, URIRef, RDF\n",
    "g1 = Graph()\n",
    "g2 = Graph()\n",
    "g1.parse(github_storage+\"resources/data01.rdf\", format=\"xml\")\n",
    "g2.parse(github_storage+\"resources/data02.rdf\", format=\"xml\")"
   ]
  },
  {
   "cell_type": "markdown",
   "metadata": {
    "id": "kxxKghwBElOm"
   },
   "source": [
    "Task: list all the elements of the class Person in the first graph (data01.rdf) and complete the fields (given name, family name and email) that may be missing with the data from the second graph (data02.rdf). You can use SPARQL queries or iterate the graph, or both."
   ]
  },
  {
   "cell_type": "code",
   "execution_count": 15,
   "metadata": {},
   "outputs": [
    {
     "name": "stdout",
     "output_type": "stream",
     "text": [
      "(rdflib.term.URIRef('http://data.org#JohnDoe'), rdflib.term.URIRef('http://www.w3.org/2001/vcard-rdf/3.0#EMAIL'), rdflib.term.Literal('doe@data.org', datatype=rdflib.term.URIRef('http://www.w3.org/2001/XMLSchema#string')))\n",
      "(rdflib.term.URIRef('http://data.org#JohnDoe'), rdflib.term.URIRef('http://www.w3.org/1999/02/22-rdf-syntax-ns#type'), rdflib.term.URIRef('http://data.org#Person'))\n",
      "(rdflib.term.URIRef('http://data.org#JohnDoe'), rdflib.term.URIRef('http://www.w3.org/2001/vcard-rdf/3.0#Given'), rdflib.term.Literal('John', datatype=rdflib.term.URIRef('http://www.w3.org/2001/XMLSchema#string')))\n",
      "(rdflib.term.URIRef('http://data.org#JohnDoe'), rdflib.term.URIRef('http://www.w3.org/2001/vcard-rdf/3.0#Family'), rdflib.term.Literal('Doe', datatype=rdflib.term.URIRef('http://www.w3.org/2001/XMLSchema#string')))\n",
      "(rdflib.term.URIRef('http://data.org#SaraJones'), rdflib.term.URIRef('http://www.w3.org/2001/vcard-rdf/3.0#Given'), rdflib.term.Literal('Sara', datatype=rdflib.term.URIRef('http://www.w3.org/2001/XMLSchema#string')))\n",
      "(rdflib.term.URIRef('http://data.org#SaraJones'), rdflib.term.URIRef('http://www.w3.org/1999/02/22-rdf-syntax-ns#type'), rdflib.term.URIRef('http://data.org#Person'))\n",
      "(rdflib.term.URIRef('http://data.org#SaraJones'), rdflib.term.URIRef('http://www.w3.org/2001/vcard-rdf/3.0#Family'), rdflib.term.Literal('Jones', datatype=rdflib.term.URIRef('http://www.w3.org/2001/XMLSchema#string')))\n",
      "(rdflib.term.URIRef('http://data.org#SaraJones'), rdflib.term.URIRef('http://www.w3.org/2001/vcard-rdf/3.0#EMAIL'), rdflib.term.Literal('sara.jones@data.org', datatype=rdflib.term.URIRef('http://www.w3.org/2001/XMLSchema#string')))\n",
      "(rdflib.term.URIRef('http://data.org#HarryPotter'), rdflib.term.URIRef('http://www.w3.org/2001/vcard-rdf/3.0#EMAIL'), rdflib.term.Literal('hpotter@hogwarts.org', datatype=rdflib.term.URIRef('http://www.w3.org/2001/XMLSchema#string')))\n",
      "(rdflib.term.URIRef('http://data.org#HarryPotter'), rdflib.term.URIRef('http://www.w3.org/2001/vcard-rdf/3.0#Given'), rdflib.term.Literal('Harry', datatype=rdflib.term.URIRef('http://www.w3.org/2001/XMLSchema#string')))\n",
      "(rdflib.term.URIRef('http://data.org#HarryPotter'), rdflib.term.URIRef('http://www.w3.org/1999/02/22-rdf-syntax-ns#type'), rdflib.term.URIRef('http://data.org#Person'))\n",
      "(rdflib.term.URIRef('http://data.org#HarryPotter'), rdflib.term.URIRef('http://www.w3.org/2001/vcard-rdf/3.0#Family'), rdflib.term.Literal('Potter', datatype=rdflib.term.URIRef('http://www.w3.org/2001/XMLSchema#string')))\n",
      "(rdflib.term.URIRef('http://data.org#JohnSmith'), rdflib.term.URIRef('http://www.w3.org/2001/vcard-rdf/3.0#Given'), rdflib.term.Literal('John', datatype=rdflib.term.URIRef('http://www.w3.org/2001/XMLSchema#string')))\n",
      "(rdflib.term.URIRef('http://data.org#JohnSmith'), rdflib.term.URIRef('http://www.w3.org/2001/vcard-rdf/3.0#Family'), rdflib.term.Literal('Smith', datatype=rdflib.term.URIRef('http://www.w3.org/2001/XMLSchema#string')))\n",
      "(rdflib.term.URIRef('http://data.org#JohnSmith'), rdflib.term.URIRef('http://www.w3.org/2001/vcard-rdf/3.0#EMAIL'), rdflib.term.Literal('j.smith@data.org', datatype=rdflib.term.URIRef('http://www.w3.org/2001/XMLSchema#string')))\n",
      "(rdflib.term.URIRef('http://data.org#JohnSmith'), rdflib.term.URIRef('http://www.w3.org/1999/02/22-rdf-syntax-ns#type'), rdflib.term.URIRef('http://data.org#Person'))\n"
     ]
    }
   ],
   "source": [
    "from rdflib.plugins.sparql import prepareQuery\n",
    "ns=Namespace('http://data.org#')\n",
    "people=[]  #Empty List\n",
    "vcard=Namespace(\"http://www.w3.org/2001/vcard-rdf/3.0#\")\n",
    "q = prepareQuery('''\n",
    "  SELECT \n",
    "    ?s ?p ?o\n",
    "  WHERE { \n",
    "    ?s rdf:type/rdfs:subClassOf* ns:Person. \n",
    "    ?s ?p ?o\n",
    "  }\n",
    "  ''',\n",
    "  initNs = { \"ns\": ns}\n",
    ") #Defining  query\n",
    "\n",
    "\n",
    "for (s,p,o) in g1.triples((None,RDF.type,ns.Person)): \n",
    "     people.append(s)\n",
    "        \n",
    "for p in people:\n",
    "  \n",
    "    if not list(g1.triples((p,vcard.Family,None))):\n",
    "        o=g2.value(p,vcard.Family)\n",
    "        g1.add((p,vcard.Family,Literal(o)))\n",
    "\n",
    "    if not list(g1.triples((p,vcard.Given,None))): \n",
    "        o=g2.value(p,vcard.Given)\n",
    "        g1.add((p,vcard.Given,Literal(o)))\n",
    "\n",
    "    if not list(g1.triples((p,vcard.EMAIL,None))) : \n",
    "        o=g2.value(p,vcard.EMAIL)\n",
    "        g1.add((p,vcard.EMAIL,Literal(o)))\n",
    "for r in g1.query(q):\n",
    "    print(r)"
   ]
  },
  {
   "cell_type": "code",
   "execution_count": null,
   "metadata": {},
   "outputs": [],
   "source": []
  }
 ],
 "metadata": {
  "colab": {
   "collapsed_sections": [],
   "name": "Task08.ipynb",
   "provenance": []
  },
  "kernelspec": {
   "display_name": "Python 3",
   "language": "python",
   "name": "python3"
  },
  "language_info": {
   "codemirror_mode": {
    "name": "ipython",
    "version": 3
   },
   "file_extension": ".py",
   "mimetype": "text/x-python",
   "name": "python",
   "nbconvert_exporter": "python",
   "pygments_lexer": "ipython3",
   "version": "3.7.6"
  }
 },
 "nbformat": 4,
 "nbformat_minor": 1
}
