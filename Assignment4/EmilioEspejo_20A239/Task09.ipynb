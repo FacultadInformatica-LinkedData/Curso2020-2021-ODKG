{
 "cells": [
  {
   "cell_type": "markdown",
   "metadata": {
    "id": "wIhJ69byU2Ad"
   },
   "source": [
    "**Task 09: Data linking**"
   ]
  },
  {
   "cell_type": "code",
   "execution_count": 8,
   "metadata": {
    "id": "0sQG2Y915Isp"
   },
   "outputs": [
    {
     "name": "stdout",
     "output_type": "stream",
     "text": [
      "Requirement already satisfied: rdflib in c:\\users\\emilio\\anaconda3\\lib\\site-packages (5.0.0)\n",
      "Requirement already satisfied: pyparsing in c:\\users\\emilio\\anaconda3\\lib\\site-packages (from rdflib) (2.4.6)\n",
      "Requirement already satisfied: six in c:\\users\\emilio\\anaconda3\\lib\\site-packages (from rdflib) (1.14.0)\n",
      "Requirement already satisfied: isodate in c:\\users\\emilio\\anaconda3\\lib\\site-packages (from rdflib) (0.6.0)\n"
     ]
    }
   ],
   "source": [
    "!pip install rdflib\n",
    "github_storage = \"https://raw.githubusercontent.com/FacultadInformatica-LinkedData/Curso2020-2021/master/Assignment4/\""
   ]
  },
  {
   "cell_type": "code",
   "execution_count": 9,
   "metadata": {
    "id": "Jb4QeLue5NLr"
   },
   "outputs": [
    {
     "data": {
      "text/plain": [
       "<Graph identifier=N369aaff3b2dd42ad9660809724ba8ef6 (<class 'rdflib.graph.Graph'>)>"
      ]
     },
     "execution_count": 9,
     "metadata": {},
     "output_type": "execute_result"
    }
   ],
   "source": [
    "from rdflib import Graph, Namespace, Literal, URIRef\n",
    "g1 = Graph()\n",
    "g2 = Graph()\n",
    "g3 = Graph()\n",
    "g1.parse(github_storage+\"resources/data03.rdf\", format=\"xml\")\n",
    "g2.parse(github_storage+\"resources/data04.rdf\", format=\"xml\")"
   ]
  },
  {
   "cell_type": "markdown",
   "metadata": {
    "id": "5wfBZiQSU827"
   },
   "source": [
    "Search for individuals in the two graphs and link them using the OWL: sameAs property, insert these matches in g3. We consider that two individuals are the same if they have the same nickname and family name. Keep in mind that the URIs do not have to be the same for the same individual in the two graphs."
   ]
  },
  {
   "cell_type": "code",
   "execution_count": 15,
   "metadata": {},
   "outputs": [
    {
     "name": "stdout",
     "output_type": "stream",
     "text": [
      "http://data.three.org#JohnDoe http://www.w3.org/2002/07/owl#sameAs http://data.four.org#0005\n",
      "http://data.three.org#SaraJones http://www.w3.org/2002/07/owl#sameAs http://data.four.org#0001\n"
     ]
    }
   ],
   "source": [
    "from rdflib import RDF, OWL, RDFS\n",
    "ns1=Namespace(\"http://data.uno.org#\")\n",
    "ns2 = Namespace (\"http://data.dos.org#\")\n",
    "vcard = Namespace (\"http://www.w3.org/2001/vcard-rdf/3.0#\")\n",
    "\n",
    "for s1,p1,o1 in g1.triples((None,RDF.type,ns1.Person)):\n",
    "    for s2,p2,o2 in g2.triples((None,RDF.type,ns2.Person)):\n",
    "        if g2.value(subject=s2,predicate=vcard.Given,object=None)==g1.value(subject=s1,predicate=vcard.Given,object=None) and g2.value(subject=s2,predicate=vcard.Family,object=None)==g1.value(subject=s1,predicate=vcard.Family,object=None):\n",
    "            g3.add((s1, OWL.sameAs, s2))\n",
    "\n",
    "for s3,p3,o3 in g3:\n",
    "    print (s3,p3,o3)"
   ]
  },
  {
   "cell_type": "code",
   "execution_count": null,
   "metadata": {},
   "outputs": [],
   "source": []
  }
 ],
 "metadata": {
  "colab": {
   "collapsed_sections": [],
   "name": "Task09.ipynb",
   "provenance": []
  },
  "kernelspec": {
   "display_name": "Python 3",
   "language": "python",
   "name": "python3"
  },
  "language_info": {
   "codemirror_mode": {
    "name": "ipython",
    "version": 3
   },
   "file_extension": ".py",
   "mimetype": "text/x-python",
   "name": "python",
   "nbconvert_exporter": "python",
   "pygments_lexer": "ipython3",
   "version": "3.7.6"
  }
 },
 "nbformat": 4,
 "nbformat_minor": 1
}
