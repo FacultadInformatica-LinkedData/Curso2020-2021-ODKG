{
 "cells": [
  {
   "cell_type": "markdown",
   "metadata": {
    "id": "nOOPLCHF7hLB"
   },
   "source": [
    "**Task 07: Querying RDF(s)**"
   ]
  },
  {
   "cell_type": "code",
   "execution_count": 2,
   "metadata": {
    "id": "Yl9npCt8n6m-"
   },
   "outputs": [
    {
     "name": "stdout",
     "output_type": "stream",
     "text": [
      "Requirement already satisfied: rdflib in c:\\users\\emilio\\anaconda3\\lib\\site-packages (5.0.0)\n",
      "Requirement already satisfied: isodate in c:\\users\\emilio\\anaconda3\\lib\\site-packages (from rdflib) (0.6.0)\n",
      "Requirement already satisfied: six in c:\\users\\emilio\\anaconda3\\lib\\site-packages (from rdflib) (1.14.0)\n",
      "Requirement already satisfied: pyparsing in c:\\users\\emilio\\anaconda3\\lib\\site-packages (from rdflib) (2.4.6)\n"
     ]
    }
   ],
   "source": [
    "!pip install rdflib \n",
    "github_storage = \"https://raw.githubusercontent.com/FacultadInformatica-LinkedData/Curso2020-2021/master/Assignment4\""
   ]
  },
  {
   "cell_type": "markdown",
   "metadata": {
    "id": "XY7aPc86Bqoo"
   },
   "source": [
    "Read the RDF file"
   ]
  },
  {
   "cell_type": "code",
   "execution_count": 3,
   "metadata": {
    "id": "9ERh415on7kF"
   },
   "outputs": [
    {
     "data": {
      "text/plain": [
       "<Graph identifier=N529f7e73dbf14347bd1b98c0c7b2448a (<class 'rdflib.graph.Graph'>)>"
      ]
     },
     "execution_count": 3,
     "metadata": {},
     "output_type": "execute_result"
    }
   ],
   "source": [
    "from rdflib import Graph, Namespace, Literal\n",
    "from rdflib.namespace import RDF, RDFS\n",
    "g = Graph()\n",
    "g.namespace_manager.bind('ns', Namespace(\"http://somewhere#\"), override=False)\n",
    "g.namespace_manager.bind('vcard', Namespace(\"http://www.w3.org/2001/vcard-rdf/3.0#\"), override=False)\n",
    "g.parse(github_storage+\"/resources/example6.rdf\", format=\"xml\")"
   ]
  },
  {
   "cell_type": "markdown",
   "metadata": {
    "id": "qp1oe2Eddsvo"
   },
   "source": [
    "**TASK 7.1: List all subclasses of \"Person\" with RDFLib and SPARQL**"
   ]
  },
  {
   "cell_type": "code",
   "execution_count": 14,
   "metadata": {},
   "outputs": [
    {
     "name": "stdout",
     "output_type": "stream",
     "text": [
      "(rdflib.term.URIRef('http://somewhere#Researcher'),)\n",
      "(rdflib.term.URIRef('http://somewhere#PhDstudent'),)\n"
     ]
    }
   ],
   "source": [
    "from rdflib.plugins.sparql import prepareQuery\n",
    "\n",
    "q = prepareQuery('''\n",
    "  SELECT \n",
    "    ?x\n",
    "  WHERE { \n",
    "    ?x rdfs:subClassOf/rdfs:subClassOf* ns:Person \n",
    "  }\n",
    "  ''',\n",
    "  initNs = { \"ns\": ns}\n",
    ")\n",
    "\n",
    "\n",
    "ns = Namespace(\"http://somewhere#\")\n",
    "for s,p,o in g.triples((None, RDFS.subClassOf, ns.Person)):\n",
    "    for a,b,c in g.triples((None, RDFS.subClassOf, s)):\n",
    "        for q in g.query(q):\n",
    "            print(q)"
   ]
  },
  {
   "cell_type": "markdown",
   "metadata": {
    "id": "gM3DASkTQQ5Y"
   },
   "source": [
    "**TASK 7.2: List all individuals of \"Person\" with RDFLib and SPARQL (remember the subClasses)**\n"
   ]
  },
  {
   "cell_type": "code",
   "execution_count": 18,
   "metadata": {},
   "outputs": [
    {
     "name": "stdout",
     "output_type": "stream",
     "text": [
      "(rdflib.term.URIRef('http://somewhere#SaraJones'),)\n",
      "(rdflib.term.URIRef('http://somewhere#JohnSmith'),)\n",
      "(rdflib.term.URIRef('http://somewhere#JaneSmith'),)\n",
      "(rdflib.term.URIRef('http://somewhere#SaraJones'),)\n",
      "(rdflib.term.URIRef('http://somewhere#JohnSmith'),)\n",
      "(rdflib.term.URIRef('http://somewhere#JaneSmith'),)\n"
     ]
    }
   ],
   "source": [
    "q2 = prepareQuery('''\n",
    "    SELECT DISTINCT ?x \n",
    "    WHERE\n",
    "    {\n",
    "      ?x rdf:type/rdfs:subClassOf* ns:Person .\n",
    "    }\n",
    "  ''',\n",
    "  initNs = { \"ns\": ns}\n",
    ")\n",
    "ns = Namespace(\"http://somewhere#\")\n",
    "for s,p,o in g.triples((None, RDF.type, ns.Person)):\n",
    "    for s,p,o in g.triples((None, RDFS.subClassOf, ns.Person)):\n",
    "        for a,b,c in g.triples((None, RDF.type, s)):\n",
    "            for r in g.query(q2):\n",
    "                print(r)"
   ]
  },
  {
   "cell_type": "markdown",
   "metadata": {
    "id": "MXBqtBkJd22I"
   },
   "source": [
    "**TASK 7.3: List all individuals of \"Person\" and all their properties including their class with RDFLib and SPARQL**\n"
   ]
  },
  {
   "cell_type": "code",
   "execution_count": 20,
   "metadata": {},
   "outputs": [
    {
     "name": "stdout",
     "output_type": "stream",
     "text": [
      "\n",
      "\n",
      "http://somewhere#SaraJones http://www.w3.org/1999/02/22-rdf-syntax-ns#type http://somewhere#Person\n",
      "http://somewhere#SaraJones http://somewhere#http://www.w3.org/2001/vcard-rdf/3.0/FN Sara Jones\n",
      "http://somewhere#SaraJones http://somewhere#http://www.w3.org/2001/vcard-rdf/3.0/Family Jones\n",
      "http://somewhere#SaraJones http://somewhere#http://www.w3.org/2001/vcard-rdf/3.0/Given Sara\n",
      "\n",
      "\n",
      "http://somewhere#JohnSmith http://www.w3.org/1999/02/22-rdf-syntax-ns#type http://somewhere#Person\n",
      "http://somewhere#JohnSmith http://somewhere#http://www.w3.org/2001/vcard-rdf/3.0/Family Smith\n",
      "http://somewhere#JohnSmith http://somewhere#http://www.w3.org/2001/vcard-rdf/3.0/FN John Smith\n",
      "http://somewhere#JohnSmith http://somewhere#http://www.w3.org/2001/vcard-rdf/3.0/Given John\n",
      "\n",
      "\n",
      "http://somewhere#JaneSmith http://somewhere#http://www.w3.org/2001/vcard-rdf/3.0/Given Jane\n",
      "http://somewhere#JaneSmith http://somewhere#http://www.w3.org/2001/vcard-rdf/3.0/FN jane Smith\n",
      "http://somewhere#JaneSmith http://www.w3.org/1999/02/22-rdf-syntax-ns#type http://somewhere#Researcher\n",
      "http://somewhere#JaneSmith http://somewhere#http://www.w3.org/2001/vcard-rdf/3.0/Family Smith\n",
      "\n",
      "\n",
      "(rdflib.term.URIRef('http://somewhere#SaraJones'), rdflib.term.URIRef('http://www.w3.org/1999/02/22-rdf-syntax-ns#type'), rdflib.term.URIRef('http://somewhere#Person'))\n",
      "\n",
      "\n",
      "(rdflib.term.URIRef('http://somewhere#SaraJones'), rdflib.term.URIRef('http://somewhere#http://www.w3.org/2001/vcard-rdf/3.0/FN'), rdflib.term.URIRef('http://somewhere#Person'))\n",
      "\n",
      "\n",
      "(rdflib.term.URIRef('http://somewhere#SaraJones'), rdflib.term.URIRef('http://somewhere#http://www.w3.org/2001/vcard-rdf/3.0/Family'), rdflib.term.URIRef('http://somewhere#Person'))\n",
      "\n",
      "\n",
      "(rdflib.term.URIRef('http://somewhere#SaraJones'), rdflib.term.URIRef('http://somewhere#http://www.w3.org/2001/vcard-rdf/3.0/Given'), rdflib.term.URIRef('http://somewhere#Person'))\n",
      "\n",
      "\n",
      "(rdflib.term.URIRef('http://somewhere#JohnSmith'), rdflib.term.URIRef('http://www.w3.org/1999/02/22-rdf-syntax-ns#type'), rdflib.term.URIRef('http://somewhere#Person'))\n",
      "\n",
      "\n",
      "(rdflib.term.URIRef('http://somewhere#JohnSmith'), rdflib.term.URIRef('http://somewhere#http://www.w3.org/2001/vcard-rdf/3.0/Family'), rdflib.term.URIRef('http://somewhere#Person'))\n",
      "\n",
      "\n",
      "(rdflib.term.URIRef('http://somewhere#JohnSmith'), rdflib.term.URIRef('http://somewhere#http://www.w3.org/2001/vcard-rdf/3.0/FN'), rdflib.term.URIRef('http://somewhere#Person'))\n",
      "\n",
      "\n",
      "(rdflib.term.URIRef('http://somewhere#JohnSmith'), rdflib.term.URIRef('http://somewhere#http://www.w3.org/2001/vcard-rdf/3.0/Given'), rdflib.term.URIRef('http://somewhere#Person'))\n",
      "\n",
      "\n",
      "(rdflib.term.URIRef('http://somewhere#JaneSmith'), rdflib.term.URIRef('http://somewhere#http://www.w3.org/2001/vcard-rdf/3.0/Given'), rdflib.term.URIRef('http://somewhere#Researcher'))\n",
      "\n",
      "\n",
      "(rdflib.term.URIRef('http://somewhere#JaneSmith'), rdflib.term.URIRef('http://somewhere#http://www.w3.org/2001/vcard-rdf/3.0/FN'), rdflib.term.URIRef('http://somewhere#Researcher'))\n",
      "\n",
      "\n",
      "(rdflib.term.URIRef('http://somewhere#JaneSmith'), rdflib.term.URIRef('http://www.w3.org/1999/02/22-rdf-syntax-ns#type'), rdflib.term.URIRef('http://somewhere#Researcher'))\n",
      "\n",
      "\n",
      "(rdflib.term.URIRef('http://somewhere#JaneSmith'), rdflib.term.URIRef('http://somewhere#http://www.w3.org/2001/vcard-rdf/3.0/Family'), rdflib.term.URIRef('http://somewhere#Researcher'))\n",
      "\n",
      "\n",
      "(rdflib.term.URIRef('http://somewhere#JaneSmith'), rdflib.term.URIRef('http://somewhere#http://www.w3.org/2001/vcard-rdf/3.0/Given'), rdflib.term.URIRef('http://somewhere#Person'))\n",
      "\n",
      "\n",
      "(rdflib.term.URIRef('http://somewhere#JaneSmith'), rdflib.term.URIRef('http://somewhere#http://www.w3.org/2001/vcard-rdf/3.0/FN'), rdflib.term.URIRef('http://somewhere#Person'))\n",
      "\n",
      "\n",
      "(rdflib.term.URIRef('http://somewhere#JaneSmith'), rdflib.term.URIRef('http://www.w3.org/1999/02/22-rdf-syntax-ns#type'), rdflib.term.URIRef('http://somewhere#Person'))\n",
      "\n",
      "\n",
      "(rdflib.term.URIRef('http://somewhere#JaneSmith'), rdflib.term.URIRef('http://somewhere#http://www.w3.org/2001/vcard-rdf/3.0/Family'), rdflib.term.URIRef('http://somewhere#Person'))\n"
     ]
    }
   ],
   "source": [
    "q3 = prepareQuery('''\n",
    "    SELECT ?x ?y ?z\n",
    "    WHERE\n",
    "    {\n",
    "      ?x rdf:type/rdfs:subClassOf* ns:Person .\n",
    "      ?x ?y ?a .\n",
    "      ?x rdf:type/rdfs:subClassOf* ?z .\n",
    "    }\n",
    "  ''',\n",
    "  initNs = { \"ns\": ns}\n",
    ")\n",
    "\n",
    "\n",
    "\n",
    "ns = Namespace(\"http://somewhere#\")\n",
    "for x,y,z in g.triples((None, RDF.type, ns.Person)):\n",
    "    print(\"\\n\")\n",
    "    for x1,y1,z1 in g.triples((x, None, None)):\n",
    "        print(x1, y1, z1)\n",
    "print(\"\\n\")\n",
    "\n",
    "for s,p,o in g.triples((None, RDFS.subClassOf, ns.Person)):\n",
    "    for a,b,c in g.triples((None, RDF.type, s)):\n",
    "        for a1,b1,c1 in g.triples((a, None, None)):\n",
    "            print(a1,b1,c1)\n",
    "        for r in g.query(q3):\n",
    "            print(\"\\n\")\n",
    "            print(r)"
   ]
  },
  {
   "cell_type": "code",
   "execution_count": null,
   "metadata": {},
   "outputs": [],
   "source": []
  }
 ],
 "metadata": {
  "colab": {
   "collapsed_sections": [],
   "name": "Task07.ipynb",
   "provenance": []
  },
  "kernelspec": {
   "display_name": "Python 3",
   "language": "python",
   "name": "python3"
  },
  "language_info": {
   "codemirror_mode": {
    "name": "ipython",
    "version": 3
   },
   "file_extension": ".py",
   "mimetype": "text/x-python",
   "name": "python",
   "nbconvert_exporter": "python",
   "pygments_lexer": "ipython3",
   "version": "3.7.6"
  }
 },
 "nbformat": 4,
 "nbformat_minor": 1
}
