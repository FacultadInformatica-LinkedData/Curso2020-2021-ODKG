{
  "nbformat": 4,
  "nbformat_minor": 0,
  "metadata": {
    "colab": {
      "name": "Task07.ipynb",
      "provenance": [],
      "collapsed_sections": []
    },
    "kernelspec": {
      "name": "python3",
      "display_name": "Python 3"
    }
  },
  "cells": [
    {
      "cell_type": "markdown",
      "metadata": {
        "id": "nOOPLCHF7hLB"
      },
      "source": [
        "**Task 07: Querying RDF(s)**"
      ]
    },
    {
      "cell_type": "code",
      "metadata": {
        "id": "Yl9npCt8n6m-",
        "outputId": "80a8377b-0f37-4fa4-ce0e-c8dfd20b8ba2",
        "colab": {
          "base_uri": "https://localhost:8080/",
          "height": 185
        }
      },
      "source": [
        "!pip install rdflib \n",
        "github_storage = \"https://raw.githubusercontent.com/FacultadInformatica-LinkedData/Curso2020-2021/master/Assignment4\""
      ],
      "execution_count": null,
      "outputs": [
        {
          "output_type": "stream",
          "text": [
            "Collecting rdflib\n",
            "\u001b[?25l  Downloading https://files.pythonhosted.org/packages/d0/6b/6454aa1db753c0f8bc265a5bd5c10b5721a4bb24160fb4faf758cf6be8a1/rdflib-5.0.0-py3-none-any.whl (231kB)\n",
            "\u001b[K     |████████████████████████████████| 235kB 2.8MB/s \n",
            "\u001b[?25hCollecting isodate\n",
            "\u001b[?25l  Downloading https://files.pythonhosted.org/packages/9b/9f/b36f7774ff5ea8e428fdcfc4bb332c39ee5b9362ddd3d40d9516a55221b2/isodate-0.6.0-py2.py3-none-any.whl (45kB)\n",
            "\u001b[K     |████████████████████████████████| 51kB 5.5MB/s \n",
            "\u001b[?25hRequirement already satisfied: pyparsing in /usr/local/lib/python3.6/dist-packages (from rdflib) (2.4.7)\n",
            "Requirement already satisfied: six in /usr/local/lib/python3.6/dist-packages (from rdflib) (1.15.0)\n",
            "Installing collected packages: isodate, rdflib\n",
            "Successfully installed isodate-0.6.0 rdflib-5.0.0\n"
          ],
          "name": "stdout"
        }
      ]
    },
    {
      "cell_type": "markdown",
      "metadata": {
        "id": "XY7aPc86Bqoo"
      },
      "source": [
        "Read the RDF file"
      ]
    },
    {
      "cell_type": "code",
      "metadata": {
        "id": "9ERh415on7kF",
        "outputId": "90d979fa-09a7-4cea-9632-a7aa406b22de",
        "colab": {
          "base_uri": "https://localhost:8080/",
          "height": 34
        }
      },
      "source": [
        "from rdflib import Graph, Namespace, Literal\n",
        "from rdflib.namespace import RDF, RDFS\n",
        "g = Graph()\n",
        "g.namespace_manager.bind('ns', Namespace(\"http://somewhere#\"), override=False)\n",
        "g.namespace_manager.bind('vcard', Namespace(\"http://www.w3.org/2001/vcard-rdf/3.0#\"), override=False)\n",
        "g.parse(github_storage+\"/resources/example6.rdf\", format=\"xml\")"
      ],
      "execution_count": null,
      "outputs": [
        {
          "output_type": "execute_result",
          "data": {
            "text/plain": [
              "<Graph identifier=Nd1443a9e55f1410b8451d103d1293bb6 (<class 'rdflib.graph.Graph'>)>"
            ]
          },
          "metadata": {
            "tags": []
          },
          "execution_count": 2
        }
      ]
    },
    {
      "cell_type": "markdown",
      "metadata": {
        "id": "qp1oe2Eddsvo"
      },
      "source": [
        "**TASK 7.1: List all subclasses of \"Person\" with RDFLib and SPARQL**"
      ]
    },
    {
      "cell_type": "code",
      "metadata": {
        "id": "P7aR8IRlDVfQ",
        "outputId": "06fb0aad-f1dc-47c7-908a-fbceb3fb6c4b",
        "colab": {
          "base_uri": "https://localhost:8080/",
          "height": 50
        }
      },
      "source": [
        "ns=Namespace(\"http://somewhere#\")\n",
        "\n",
        "for s,p,o in g.triples((None, RDFS.subClassOf, ns.Person)):\n",
        "    print(s)\n",
        "    for s1, p1, o1 in g.triples((None, RDFS.subClassOf, s)):\n",
        "        print(s1)"
      ],
      "execution_count": null,
      "outputs": [
        {
          "output_type": "stream",
          "text": [
            "http://somewhere#Researcher\n",
            "http://somewhere#PhDstudent\n"
          ],
          "name": "stdout"
        }
      ]
    },
    {
      "cell_type": "code",
      "metadata": {
        "id": "pB2i9ZFbDdgr",
        "outputId": "aa3d625e-45ec-4ca3-d42f-7288e9be0217",
        "colab": {
          "base_uri": "https://localhost:8080/",
          "height": 50
        }
      },
      "source": [
        "from rdflib.plugins.sparql import prepareQuery\n",
        "\n",
        "q1 = prepareQuery('''\n",
        "  SELECT \n",
        "    ?x\n",
        "  WHERE { \n",
        "    ?x  rdfs:subClassOf/rdfs:subClassOf*  ns:Person. \n",
        "  }\n",
        "  ''', \n",
        "  initNs = { \"ns\": ns, \"rdfs\": RDFS}\n",
        ")\n",
        "\n",
        "for r in g.query(q1):\n",
        "  print(r)"
      ],
      "execution_count": null,
      "outputs": [
        {
          "output_type": "stream",
          "text": [
            "(rdflib.term.URIRef('http://somewhere#Researcher'),)\n",
            "(rdflib.term.URIRef('http://somewhere#PhDstudent'),)\n"
          ],
          "name": "stdout"
        }
      ]
    },
    {
      "cell_type": "markdown",
      "metadata": {
        "id": "gM3DASkTQQ5Y"
      },
      "source": [
        "**TASK 7.2: List all individuals of \"Person\" with RDFLib and SPARQL (remember the subClasses)**\n"
      ]
    },
    {
      "cell_type": "code",
      "metadata": {
        "id": "wa_-sYjeEPv7",
        "outputId": "2ba7f719-db55-4ccb-fe92-e14a24f78693",
        "colab": {
          "base_uri": "https://localhost:8080/",
          "height": 67
        }
      },
      "source": [
        "for s,p,o in g.triples((None, RDF.type, ns.Person)):\n",
        "  print(s)\n",
        "  \n",
        "for s,p,o in g.triples((None, RDFS.subClassOf, ns.Person)):\n",
        "  for s1,p1,o1 in g.triples((None, RDF.type, s)):\n",
        "    print(s)"
      ],
      "execution_count": null,
      "outputs": [
        {
          "output_type": "stream",
          "text": [
            "http://somewhere#JohnSmith\n",
            "http://somewhere#SaraJones\n",
            "http://somewhere#Researcher\n"
          ],
          "name": "stdout"
        }
      ]
    },
    {
      "cell_type": "code",
      "metadata": {
        "id": "rm2FirZhESFf",
        "outputId": "4bbe9648-1b0c-47f9-9e26-28b2f85d07ee",
        "colab": {
          "base_uri": "https://localhost:8080/",
          "height": 67
        }
      },
      "source": [
        "q1 = prepareQuery('''\n",
        "  SELECT \n",
        "    ?x\n",
        "  WHERE { \n",
        "    ?x a/rdfs:subClassOf*  ns:Person. \n",
        "  }\n",
        "  ''', \n",
        "  initNs = { \"ns\": ns, \"rdfs\": RDFS}\n",
        ")\n",
        "\n",
        "for r in g.query(q1):\n",
        "  print(r)"
      ],
      "execution_count": null,
      "outputs": [
        {
          "output_type": "stream",
          "text": [
            "(rdflib.term.URIRef('http://somewhere#JohnSmith'),)\n",
            "(rdflib.term.URIRef('http://somewhere#SaraJones'),)\n",
            "(rdflib.term.URIRef('http://somewhere#JaneSmith'),)\n"
          ],
          "name": "stdout"
        }
      ]
    },
    {
      "cell_type": "markdown",
      "metadata": {
        "id": "MXBqtBkJd22I"
      },
      "source": [
        "**TASK 7.3: List all individuals of \"Person\" and all their properties including their class with RDFLib and SPARQL**\n"
      ]
    },
    {
      "cell_type": "code",
      "metadata": {
        "id": "6JKIpoE6EXuG",
        "outputId": "870ac039-50af-4932-c648-284144e779e2",
        "colab": {
          "base_uri": "https://localhost:8080/",
          "height": 218
        }
      },
      "source": [
        "for s,p,o in g.triples((None, RDF.type, ns.Person)):\n",
        "    for s1,p1,o1 in g.triples((s, None, None)):\n",
        "        print(s1,p1,o1)\n",
        "\n",
        "for s,p,o in g.triples((None, RDFS.subClassOf, ns.Person)):\n",
        "  for s1,p1,o1 in g.triples((None, RDF.type, s)):\n",
        "    for s2,p2,o2 in g.triples((s1, None, None)):\n",
        "        print(s2,p2,o2)"
      ],
      "execution_count": null,
      "outputs": [
        {
          "output_type": "stream",
          "text": [
            "http://somewhere#JohnSmith http://somewhere#http://www.w3.org/2001/vcard-rdf/3.0/FN John Smith\n",
            "http://somewhere#JohnSmith http://www.w3.org/1999/02/22-rdf-syntax-ns#type http://somewhere#Person\n",
            "http://somewhere#JohnSmith http://somewhere#http://www.w3.org/2001/vcard-rdf/3.0/Family Smith\n",
            "http://somewhere#JohnSmith http://somewhere#http://www.w3.org/2001/vcard-rdf/3.0/Given John\n",
            "http://somewhere#SaraJones http://somewhere#http://www.w3.org/2001/vcard-rdf/3.0/Family Jones\n",
            "http://somewhere#SaraJones http://somewhere#http://www.w3.org/2001/vcard-rdf/3.0/Given Sara\n",
            "http://somewhere#SaraJones http://www.w3.org/1999/02/22-rdf-syntax-ns#type http://somewhere#Person\n",
            "http://somewhere#SaraJones http://somewhere#http://www.w3.org/2001/vcard-rdf/3.0/FN Sara Jones\n",
            "http://somewhere#JaneSmith http://www.w3.org/1999/02/22-rdf-syntax-ns#type http://somewhere#Researcher\n",
            "http://somewhere#JaneSmith http://somewhere#http://www.w3.org/2001/vcard-rdf/3.0/Given Jane\n",
            "http://somewhere#JaneSmith http://somewhere#http://www.w3.org/2001/vcard-rdf/3.0/Family Smith\n",
            "http://somewhere#JaneSmith http://somewhere#http://www.w3.org/2001/vcard-rdf/3.0/FN jane Smith\n"
          ],
          "name": "stdout"
        }
      ]
    },
    {
      "cell_type": "code",
      "metadata": {
        "id": "awnI9WJ1Ee7n",
        "outputId": "60907de0-e092-4162-9a3d-0449341bacd9",
        "colab": {
          "base_uri": "https://localhost:8080/",
          "height": 218
        }
      },
      "source": [
        "q1 = prepareQuery('''\n",
        "  SELECT \n",
        "    ?x ?p \n",
        "  WHERE { \n",
        "    ?x a/rdfs:subClassOf*  ns:Person. \n",
        "    ?x ?p ?z\n",
        "  }\n",
        "  ''', \n",
        "  initNs = { \"ns\": ns,\"rdfs\":RDFS}\n",
        ")\n",
        "\n",
        "for r in g.query(q1):\n",
        "  print(r)"
      ],
      "execution_count": null,
      "outputs": [
        {
          "output_type": "stream",
          "text": [
            "(rdflib.term.URIRef('http://somewhere#JohnSmith'), rdflib.term.URIRef('http://somewhere#http://www.w3.org/2001/vcard-rdf/3.0/FN'))\n",
            "(rdflib.term.URIRef('http://somewhere#JohnSmith'), rdflib.term.URIRef('http://www.w3.org/1999/02/22-rdf-syntax-ns#type'))\n",
            "(rdflib.term.URIRef('http://somewhere#JohnSmith'), rdflib.term.URIRef('http://somewhere#http://www.w3.org/2001/vcard-rdf/3.0/Family'))\n",
            "(rdflib.term.URIRef('http://somewhere#JohnSmith'), rdflib.term.URIRef('http://somewhere#http://www.w3.org/2001/vcard-rdf/3.0/Given'))\n",
            "(rdflib.term.URIRef('http://somewhere#SaraJones'), rdflib.term.URIRef('http://somewhere#http://www.w3.org/2001/vcard-rdf/3.0/Family'))\n",
            "(rdflib.term.URIRef('http://somewhere#SaraJones'), rdflib.term.URIRef('http://somewhere#http://www.w3.org/2001/vcard-rdf/3.0/Given'))\n",
            "(rdflib.term.URIRef('http://somewhere#SaraJones'), rdflib.term.URIRef('http://www.w3.org/1999/02/22-rdf-syntax-ns#type'))\n",
            "(rdflib.term.URIRef('http://somewhere#SaraJones'), rdflib.term.URIRef('http://somewhere#http://www.w3.org/2001/vcard-rdf/3.0/FN'))\n",
            "(rdflib.term.URIRef('http://somewhere#JaneSmith'), rdflib.term.URIRef('http://www.w3.org/1999/02/22-rdf-syntax-ns#type'))\n",
            "(rdflib.term.URIRef('http://somewhere#JaneSmith'), rdflib.term.URIRef('http://somewhere#http://www.w3.org/2001/vcard-rdf/3.0/Given'))\n",
            "(rdflib.term.URIRef('http://somewhere#JaneSmith'), rdflib.term.URIRef('http://somewhere#http://www.w3.org/2001/vcard-rdf/3.0/Family'))\n",
            "(rdflib.term.URIRef('http://somewhere#JaneSmith'), rdflib.term.URIRef('http://somewhere#http://www.w3.org/2001/vcard-rdf/3.0/FN'))\n"
          ],
          "name": "stdout"
        }
      ]
    }
  ]
}