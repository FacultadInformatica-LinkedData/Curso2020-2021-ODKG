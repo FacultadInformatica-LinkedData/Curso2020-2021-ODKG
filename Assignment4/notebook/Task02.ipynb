{
  "nbformat": 4,
  "nbformat_minor": 0,
  "metadata": {
    "colab": {
      "name": "Task02.ipynb",
      "provenance": [],
      "collapsed_sections": []
    },
    "kernelspec": {
      "name": "python3",
      "display_name": "Python 3"
    }
  },
  "cells": [
    {
      "cell_type": "markdown",
      "metadata": {
        "id": "mykrL5dzjdZd"
      },
      "source": [
        "**Task 02: Managing statements**"
      ]
    },
    {
      "cell_type": "markdown",
      "metadata": {
        "id": "LnByOT0rjr5G"
      },
      "source": [
        "We start with an empty graph"
      ]
    },
    {
      "cell_type": "code",
      "metadata": {
        "id": "iOqfw6cYjdKg"
      },
      "source": [
        "!pip install rdflib\n",
        "github_storage = \"https://raw.githubusercontent.com/FacultadInformatica-LinkedData/Curso2020-2021/master/Assignment4\""
      ],
      "execution_count": null,
      "outputs": []
    },
    {
      "cell_type": "code",
      "metadata": {
        "id": "hoa1F3UZjPJB"
      },
      "source": [
        "from rdflib import Graph, Namespace, Literal\n",
        "g = Graph()"
      ],
      "execution_count": null,
      "outputs": []
    },
    {
      "cell_type": "markdown",
      "metadata": {
        "id": "DZPMjhmnjxVO"
      },
      "source": [
        "We create John Smith resources: subject and object\n"
      ]
    },
    {
      "cell_type": "code",
      "metadata": {
        "id": "mFRCCFmTkG6S"
      },
      "source": [
        "fullName = Literal(\"John Smith\")\n",
        "EX = Namespace(\"http://example.org/\")\n",
        "johnURI = EX.JohnSmith"
      ],
      "execution_count": null,
      "outputs": []
    },
    {
      "cell_type": "markdown",
      "metadata": {
        "id": "u8i7EOwZlPGi"
      },
      "source": [
        "And generate the complete resource adding the full statement"
      ]
    },
    {
      "cell_type": "code",
      "metadata": {
        "id": "iocF6ceGlJL3"
      },
      "source": [
        "VCARD = Namespace(\"http://www.w3.org/2001/vcard-rdf/3.0#\")\n",
        "\n",
        "resource = (johnURI, VCARD.FN, fullName)\n",
        "\n",
        "print(resource)\n",
        "\n",
        "g.add(resource)"
      ],
      "execution_count": null,
      "outputs": []
    },
    {
      "cell_type": "markdown",
      "metadata": {
        "id": "_r2IA6SHmkyh"
      },
      "source": [
        "We create another resource for Jane with her full name and email"
      ]
    },
    {
      "cell_type": "markdown",
      "metadata": {
        "id": "wllA6e-enah6"
      },
      "source": [
        "We can reduce a bit what we have done in the previous task, pay attention to the double parentheses, add () accepts a single parameter in the form of a tuple, not 3 parameters."
      ]
    },
    {
      "cell_type": "code",
      "metadata": {
        "id": "h6V6msiVnZzV"
      },
      "source": [
        "g.add((EX.JaneSmith, VCARD.FN, Literal(\"Jane Smith\")))\n",
        "g.add((EX.JaneSmith, VCARD.hasEmail, Literal(\"jsmith@example.org\")))"
      ],
      "execution_count": null,
      "outputs": []
    },
    {
      "cell_type": "markdown",
      "metadata": {
        "id": "_UPNqIOboSio"
      },
      "source": [
        "We add a relationship between John and Jane using the FOAF vocabulary"
      ]
    },
    {
      "cell_type": "markdown",
      "metadata": {
        "id": "DkZjkRHEonAo"
      },
      "source": [
        "There are certain namespaces that are native to RDFlib, FOAF is one of them and we don't need to declare it ourselves"
      ]
    },
    {
      "cell_type": "code",
      "metadata": {
        "id": "4jL9pXaYo1uN"
      },
      "source": [
        "from rdflib import FOAF"
      ],
      "execution_count": null,
      "outputs": []
    },
    {
      "cell_type": "code",
      "metadata": {
        "id": "tDl33PvIo4Ga"
      },
      "source": [
        "g.add((EX.JohnSmith, FOAF.knows, EX.JaneSmith))"
      ],
      "execution_count": null,
      "outputs": []
    },
    {
      "cell_type": "markdown",
      "metadata": {
        "id": "ZVs6mM7vr4Y7"
      },
      "source": [
        "See the final result"
      ]
    },
    {
      "cell_type": "code",
      "metadata": {
        "id": "ri30SNw8r67i"
      },
      "source": [
        "print(g.serialize(format=\"ttl\").decode(\"UTF-8\"))"
      ],
      "execution_count": null,
      "outputs": []
    }
  ]
}