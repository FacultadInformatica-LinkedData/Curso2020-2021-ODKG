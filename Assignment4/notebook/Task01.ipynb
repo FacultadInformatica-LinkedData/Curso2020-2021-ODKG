{
  "nbformat": 4,
  "nbformat_minor": 0,
  "metadata": {
    "colab": {
      "name": "Task01.ipynb",
      "provenance": [],
      "collapsed_sections": []
    },
    "kernelspec": {
      "name": "python3",
      "display_name": "Python 3"
    }
  },
  "cells": [
    {
      "cell_type": "markdown",
      "metadata": {
        "id": "AWikSwbrWIXK"
      },
      "source": [
        "**Task 01: Reading and writing RDF files**"
      ]
    },
    {
      "cell_type": "markdown",
      "metadata": {
        "id": "70tP7Rc1c-XK"
      },
      "source": [
        "Reading and writing files that contain triples is very simple in RDFlib, for this we will use two library methods: parse and serialize."
      ]
    },
    {
      "cell_type": "code",
      "metadata": {
        "id": "tRpigrTicjCp"
      },
      "source": [
        "!pip install rdflib\n",
        "github_storage = \"https://raw.githubusercontent.com/FacultadInformatica-LinkedData/Curso2020-2021/master/Assignment4\""
      ],
      "execution_count": null,
      "outputs": []
    },
    {
      "cell_type": "code",
      "metadata": {
        "id": "GzJopjNmdzDu"
      },
      "source": [
        "from rdflib import Graph, Namespace, Literal\n",
        "g = Graph()"
      ],
      "execution_count": null,
      "outputs": []
    },
    {
      "cell_type": "markdown",
      "metadata": {
        "id": "cxZdZ6jveaUz"
      },
      "source": [
        "We can add triples to our graph using *parse*, which will read the provided resource. We must also indicate the format if it cannot be inferred."
      ]
    },
    {
      "cell_type": "code",
      "metadata": {
        "id": "abJYz_Bqerp3"
      },
      "source": [
        "g.parse(github_storage+\"/resources/example1.rdf\", format=\"xml\")"
      ],
      "execution_count": null,
      "outputs": []
    },
    {
      "cell_type": "markdown",
      "metadata": {
        "id": "z3euhZGQyyA3"
      },
      "source": [
        "To view the graph in a specific format we can use *serialize*. For example here we show the output of the graph in turtle"
      ]
    },
    {
      "cell_type": "code",
      "metadata": {
        "id": "UfjimlObfWIK"
      },
      "source": [
        "print(g.serialize(format=\"ttl\").decode(\"UTF-8\"))\n"
      ],
      "execution_count": null,
      "outputs": []
    },
    {
      "cell_type": "markdown",
      "metadata": {
        "id": "e1XLg8xrestH"
      },
      "source": [
        "The resource can be local or remote, as in our case. The result is the same. We can add all the data we want to our graph, the data will be merged."
      ]
    },
    {
      "cell_type": "code",
      "metadata": {
        "id": "WCMS6ZGVhsD1"
      },
      "source": [
        "g.parse(github_storage+\"/resources/example2.rdf\", format=\"xml\")"
      ],
      "execution_count": null,
      "outputs": []
    },
    {
      "cell_type": "markdown",
      "metadata": {
        "id": "1v_SBIp8fEVA"
      },
      "source": [
        "Now we can check the result by showing the triples in a simple way."
      ]
    },
    {
      "cell_type": "code",
      "metadata": {
        "id": "GSW6P7XXfBHj"
      },
      "source": [
        "for subj, pred, obj in g:\n",
        "  print(subj,pred,obj)"
      ],
      "execution_count": null,
      "outputs": []
    },
    {
      "cell_type": "markdown",
      "metadata": {
        "id": "5oxiNgJhfYnm"
      },
      "source": [
        "Now we can see the inverse operation, serializing this data to some format that allows it. This process also allows us a simple conversion between formats."
      ]
    },
    {
      "cell_type": "code",
      "metadata": {
        "id": "Yfd-Nj5TfghY"
      },
      "source": [
        "print(g.serialize(format=\"xml\").decode(\"UTF-8\"))\n"
      ],
      "execution_count": null,
      "outputs": []
    },
    {
      "cell_type": "markdown",
      "metadata": {
        "id": "5sQtCm1CgIvS"
      },
      "source": [
        "We can also save the serialized result in a file, you can see this resulting file in the left panel."
      ]
    },
    {
      "cell_type": "code",
      "metadata": {
        "id": "kdKGU118fiuy"
      },
      "source": [
        "g.serialize(\"example1.ttl\", format=\"ttl\")"
      ],
      "execution_count": null,
      "outputs": []
    }
  ]
}