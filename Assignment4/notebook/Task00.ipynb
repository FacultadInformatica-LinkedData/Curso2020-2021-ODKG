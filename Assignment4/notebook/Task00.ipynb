{
  "nbformat": 4,
  "nbformat_minor": 0,
  "metadata": {
    "colab": {
      "name": "Task00.ipynb",
      "provenance": [],
      "collapsed_sections": []
    },
    "kernelspec": {
      "name": "python3",
      "display_name": "Python 3"
    }
  },
  "cells": [
    {
      "cell_type": "markdown",
      "metadata": {
        "id": "Vbr2UBDJVZ6V"
      },
      "source": [
        "**Task 00: Installing and testing RDFlib**\n"
      ]
    },
    {
      "cell_type": "markdown",
      "metadata": {
        "id": "7RxEw6P9Xmuw"
      },
      "source": [
        "We install the necessary dependencies in our environment. pip is Python's package manager.\n",
        "\n",
        "\n",
        "\n"
      ]
    },
    {
      "cell_type": "code",
      "metadata": {
        "id": "78fdlC25Xgnh"
      },
      "source": [
        "!pip install rdflib"
      ],
      "execution_count": null,
      "outputs": []
    },
    {
      "cell_type": "markdown",
      "metadata": {
        "id": "cGDpO0ldXuKw"
      },
      "source": [
        "From the rdflib package we import the necessary classes for the task"
      ]
    },
    {
      "cell_type": "code",
      "metadata": {
        "id": "7T_uY1gGXT3V"
      },
      "source": [
        "from rdflib import Graph, Namespace, Literal"
      ],
      "execution_count": null,
      "outputs": []
    },
    {
      "cell_type": "markdown",
      "metadata": {
        "id": "vK4HXCQNbvUI"
      },
      "source": [
        "We create an empty Graph"
      ]
    },
    {
      "cell_type": "code",
      "metadata": {
        "id": "MoKlf2xlXVk7"
      },
      "source": [
        "g = Graph()"
      ],
      "execution_count": null,
      "outputs": []
    },
    {
      "cell_type": "markdown",
      "metadata": {
        "id": "HEdzNgu2adnq"
      },
      "source": [
        "Creating a namespace..."
      ]
    },
    {
      "cell_type": "code",
      "metadata": {
        "id": "Kf1X9eIjYC-X"
      },
      "source": [
        "app_ns = Namespace(\"http://example.org/App/\")"
      ],
      "execution_count": null,
      "outputs": []
    },
    {
      "cell_type": "markdown",
      "metadata": {
        "id": "zebEb8aobsfz"
      },
      "source": [
        "Defining subject, predicate and object that we are going to insert in the Graph"
      ]
    },
    {
      "cell_type": "code",
      "metadata": {
        "id": "FDCR18lhYaQ3"
      },
      "source": [
        "app = app_ns.this\n",
        "says = app_ns.says\n",
        "hello = Literal(\"Hola mundo!\")"
      ],
      "execution_count": null,
      "outputs": []
    },
    {
      "cell_type": "markdown",
      "metadata": {
        "id": "wflco-ilbkBg"
      },
      "source": [
        "In RDFlib triples are defined as a native Python tuple containing 3 elements in order (subject, predicate, and object)."
      ]
    },
    {
      "cell_type": "code",
      "metadata": {
        "id": "xMA9fYyUYn25"
      },
      "source": [
        "triple = (app, says, hello)\n",
        "g.add(triple)"
      ],
      "execution_count": null,
      "outputs": []
    },
    {
      "cell_type": "markdown",
      "metadata": {
        "id": "KGittFWDbm6Q"
      },
      "source": [
        "We can iterate over our graph to obtain all the stored triples, with the g.triples () function we can search for those that match the specified pattern. We indicate None where the result is indifferent to us.\n",
        "\n",
        "Doc: https://rdflib.readthedocs.io/en/stable/apidocs/rdflib.html#rdflib.graph.Graph.triples"
      ]
    },
    {
      "cell_type": "code",
      "metadata": {
        "id": "RGIcw-OWY4cG"
      },
      "source": [
        "search = g.triples((None, says, None))\n",
        "\n",
        "for subj, pred, obj in search:\n",
        "  print(subj,pred,obj)"
      ],
      "execution_count": null,
      "outputs": []
    },
    {
      "cell_type": "markdown",
      "metadata": {
        "id": "vVQZH15Pbo9g"
      },
      "source": [
        "Additionally, we can also show all triples by serializing our graph in one of the supported formats."
      ]
    },
    {
      "cell_type": "code",
      "metadata": {
        "id": "n5j6YFrooxsf",
        "cellView": "both"
      },
      "source": [
        "#@title\n",
        "print(g.serialize(format=\"xml\").decode(\"UTF-8\"))"
      ],
      "execution_count": null,
      "outputs": []
    }
  ]
}