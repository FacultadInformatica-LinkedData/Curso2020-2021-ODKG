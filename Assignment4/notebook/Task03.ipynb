{
  "nbformat": 4,
  "nbformat_minor": 0,
  "metadata": {
    "colab": {
      "name": "Task03.ipynb",
      "provenance": [],
      "collapsed_sections": []
    },
    "kernelspec": {
      "name": "python3",
      "display_name": "Python 3"
    }
  },
  "cells": [
    {
      "cell_type": "markdown",
      "metadata": {
        "id": "e-bs2rTSdTWK"
      },
      "source": [
        "**TASK 3: Statement-based query**"
      ]
    },
    {
      "cell_type": "code",
      "metadata": {
        "id": "1nL5f5LXIU64"
      },
      "source": [
        "!pip install rdflib\n",
        "github_storage = \"https://raw.githubusercontent.com/FacultadInformatica-LinkedData/Curso2020-2021/master/Assignment4\""
      ],
      "execution_count": null,
      "outputs": []
    },
    {
      "cell_type": "markdown",
      "metadata": {
        "id": "Q2MKrR3ko_OX"
      },
      "source": [
        "Import example3.rdf to our graph"
      ]
    },
    {
      "cell_type": "code",
      "metadata": {
        "id": "hoa1F3UZjPJB"
      },
      "source": [
        "from rdflib import Graph, Namespace, Literal\n",
        "g = Graph()\n",
        "g.parse(github_storage+\"/resources/example3.rdf\", format=\"xml\")"
      ],
      "execution_count": null,
      "outputs": []
    },
    {
      "cell_type": "markdown",
      "metadata": {
        "id": "N91ApjNcoWUb"
      },
      "source": [
        "We list all the resources with the property VCARD:FN"
      ]
    },
    {
      "cell_type": "code",
      "metadata": {
        "id": "HZvdSsYPob9c"
      },
      "source": [
        "VCARD = Namespace(\"http://www.w3.org/2001/vcard-rdf/3.0#\")\n",
        "\n",
        "for s,p,o in g.triples((None, VCARD.FN, None)):\n",
        "  print(s)"
      ],
      "execution_count": null,
      "outputs": []
    },
    {
      "cell_type": "markdown",
      "metadata": {
        "id": "AwON24ezpGER"
      },
      "source": [
        "We now list the full name (VCARD: FN) of these resources"
      ]
    },
    {
      "cell_type": "code",
      "metadata": {
        "id": "GuUH14N_qMw5"
      },
      "source": [
        "for s,p,o in g.triples((None, VCARD.FN, None)):\n",
        "  print(o)"
      ],
      "execution_count": null,
      "outputs": []
    },
    {
      "cell_type": "markdown",
      "metadata": {
        "id": "Li7h14r1qdNC"
      },
      "source": [
        "We now list all the resources that have the family name \"Smith\", we must take into account the type of data of our literals when performing searches. In our example the literals are typed as XSD String (http://www.w3.org/2001/XMLSchema#string) and when searching we must indicate it, otherwise the comparison will fail even though the text strings are the same"
      ]
    },
    {
      "cell_type": "code",
      "metadata": {
        "id": "U8yF1N5IqqIx"
      },
      "source": [
        "from rdflib import XSD\n",
        "for t in g.triples((None, VCARD.Family, Literal('Smith', datatype=XSD.string))):\n",
        "  print(t)"
      ],
      "execution_count": null,
      "outputs": []
    },
    {
      "cell_type": "code",
      "metadata": {
        "id": "G8ZwYJAAr_a-"
      },
      "source": [
        "print(Literal(1, datatype=XSD.number).eq(Literal(\"1\", datatype=XSD.string)))\n",
        "print(Literal(1, datatype=XSD.number).eq(Literal(1, datatype=XSD.string)))\n",
        "print(Literal(1).eq(Literal(1, datatype=XSD.number)))\n",
        "print(Literal(1, datatype=XSD.number).eq(Literal(1, datatype=XSD.number)))\n",
        "print(Literal(1).datatype)\n",
        "print(Literal(\"1\").datatype)"
      ],
      "execution_count": null,
      "outputs": []
    },
    {
      "cell_type": "markdown",
      "metadata": {
        "id": "JH874OClyxdV"
      },
      "source": [
        "All resources that have an email"
      ]
    },
    {
      "cell_type": "code",
      "metadata": {
        "id": "Wi4kiUdty6KW"
      },
      "source": [
        "FOAF = Namespace(\"http://xmlns.com/foaf/0.1/\")\n",
        "for s,p,o in g.triples((None, FOAF.email, None)):\n",
        "  print(s,p,o)"
      ],
      "execution_count": null,
      "outputs": []
    },
    {
      "cell_type": "markdown",
      "metadata": {
        "id": "HAKPjbEf3WxX"
      },
      "source": [
        "We now list all the subjects who know \"Jane Smith\" (VCARD: FN) by her first name (VCARD: Given). When we know that we are going to obtain a single result, we can use the value function indicating each known parameter (only one must be None)."
      ]
    },
    {
      "cell_type": "code",
      "metadata": {
        "id": "dGSw7O-c3pCr"
      },
      "source": [
        "janeSmithURI = g.value(subject=None, predicate=VCARD.FN, object=Literal(\"Jane Smith\"))\n",
        "\n",
        "knows = g.triples((None, FOAF.knows, janeSmithURI))\n",
        "\n",
        "for s,p,o in knows:\n",
        "  \n",
        "  givenName = g.value(subject=s, predicate=VCARD.Given, object=None)\n",
        "\n",
        "  print(givenName)"
      ],
      "execution_count": null,
      "outputs": []
    }
  ]
}