{
  "nbformat": 4,
  "nbformat_minor": 0,
  "metadata": {
    "colab": {
      "name": "Task08.ipynb",
      "provenance": [],
      "collapsed_sections": []
    },
    "kernelspec": {
      "name": "python3",
      "display_name": "Python 3"
    }
  },
  "cells": [
    {
      "cell_type": "markdown",
      "metadata": {
        "id": "rb2ewz-dC6GC"
      },
      "source": [
        "**Task 08: Completing missing data**"
      ]
    },
    {
      "cell_type": "code",
      "metadata": {
        "id": "0sQG2Y915Isp",
        "outputId": "dd372b99-3575-44e3-a28b-52f36cec31fb",
        "colab": {
          "base_uri": "https://localhost:8080/",
          "height": 85
        }
      },
      "source": [
        "!pip install rdflib\n",
        "github_storage = \"https://raw.githubusercontent.com/FacultadInformatica-LinkedData/Curso2020-2021/master/Assignment4/\""
      ],
      "execution_count": 1,
      "outputs": [
        {
          "output_type": "stream",
          "text": [
            "Requirement already satisfied: rdflib in /usr/local/lib/python3.6/dist-packages (5.0.0)\n",
            "Requirement already satisfied: isodate in /usr/local/lib/python3.6/dist-packages (from rdflib) (0.6.0)\n",
            "Requirement already satisfied: six in /usr/local/lib/python3.6/dist-packages (from rdflib) (1.15.0)\n",
            "Requirement already satisfied: pyparsing in /usr/local/lib/python3.6/dist-packages (from rdflib) (2.4.7)\n"
          ],
          "name": "stdout"
        }
      ]
    },
    {
      "cell_type": "code",
      "metadata": {
        "id": "Jb4QeLue5NLr",
        "outputId": "d9b1e9cf-cdd3-4ff6-8be2-1c5035300a75",
        "colab": {
          "base_uri": "https://localhost:8080/",
          "height": 34
        }
      },
      "source": [
        "from rdflib import Graph, Namespace, Literal, URIRef\n",
        "g1 = Graph()\n",
        "g2 = Graph()\n",
        "g1.parse(github_storage+\"resources/data01.rdf\", format=\"xml\")\n",
        "g2.parse(github_storage+\"resources/data02.rdf\", format=\"xml\")"
      ],
      "execution_count": 2,
      "outputs": [
        {
          "output_type": "execute_result",
          "data": {
            "text/plain": [
              "<Graph identifier=N07ab755311184b14ade5fe257fece944 (<class 'rdflib.graph.Graph'>)>"
            ]
          },
          "metadata": {
            "tags": []
          },
          "execution_count": 2
        }
      ]
    },
    {
      "cell_type": "markdown",
      "metadata": {
        "id": "kxxKghwBElOm"
      },
      "source": [
        "Task: list all the elements of the class Person in the first graph (data01.rdf) and complete the fields (given name, family name and email) that may be missing with the data from the second graph (data02.rdf). You can use SPARQL queries or iterate the graph, or both."
      ]
    },
    {
      "cell_type": "code",
      "metadata": {
        "id": "wYfEuZpTfCel"
      },
      "source": [
        "from rdflib.plugins.sparql import prepareQuery\n",
        "from rdflib.namespace import RDF\n",
        "NS = Namespace(\"http://data.org#\")"
      ],
      "execution_count": 3,
      "outputs": []
    },
    {
      "cell_type": "markdown",
      "metadata": {
        "id": "pYmlUluCe7C1"
      },
      "source": [
        "List"
      ]
    },
    {
      "cell_type": "code",
      "metadata": {
        "id": "Fg2oRwWSfJHo",
        "outputId": "cbeccd22-cc77-4177-943f-97359572694b",
        "colab": {
          "base_uri": "https://localhost:8080/",
          "height": 85
        }
      },
      "source": [
        "q = prepareQuery( '''\n",
        "    SELECT ?s\n",
        "    WHERE {\n",
        "      ?s a ns:Person\n",
        "    } ''', \n",
        "    initNs = {'ns' : NS}\n",
        ")\n",
        "\n",
        "for r in g1.query(q):\n",
        "  print(r)"
      ],
      "execution_count": 4,
      "outputs": [
        {
          "output_type": "stream",
          "text": [
            "(rdflib.term.URIRef('http://data.org#SaraJones'),)\n",
            "(rdflib.term.URIRef('http://data.org#HarryPotter'),)\n",
            "(rdflib.term.URIRef('http://data.org#JohnDoe'),)\n",
            "(rdflib.term.URIRef('http://data.org#JohnSmith'),)\n"
          ],
          "name": "stdout"
        }
      ]
    },
    {
      "cell_type": "markdown",
      "metadata": {
        "id": "wzOqs5Uee8wG"
      },
      "source": [
        "Complete g1"
      ]
    },
    {
      "cell_type": "code",
      "metadata": {
        "id": "7N9rvjnOdVdb"
      },
      "source": [
        "for subj, p, o in g2.triples((None, RDF.type, NS.Person)):\n",
        "  for pred, obj in g2.predicate_objects(subject= subj):\n",
        "    if pred != RDF.type and (subj, pred, obj) not in g1.predicate_objects(subject= subj):\n",
        "      g1.add((subj, pred, obj))"
      ],
      "execution_count": 5,
      "outputs": []
    },
    {
      "cell_type": "code",
      "metadata": {
        "id": "3KLSLXHaAitm",
        "outputId": "e0c693f1-a18d-4b21-8fe4-5fafab226280",
        "colab": {
          "base_uri": "https://localhost:8080/",
          "height": 663
        }
      },
      "source": [
        "print(g1.serialize(format='turtle').decode(\"UTF-8\"))"
      ],
      "execution_count": 6,
      "outputs": [
        {
          "output_type": "stream",
          "text": [
            "@prefix : <http://data.org#> .\n",
            "@prefix rdfs: <http://www.w3.org/2000/01/rdf-schema#> .\n",
            "@prefix vcard-rdf: <http://www.w3.org/2001/vcard-rdf/3.0#> .\n",
            "@prefix xsd: <http://www.w3.org/2001/XMLSchema#> .\n",
            "\n",
            ":Person a rdfs:Class .\n",
            "\n",
            ":HarryPotter a :Person ;\n",
            "    vcard-rdf:EMAIL \"hpotter@hogwarts.org\"^^xsd:string ;\n",
            "    vcard-rdf:FN \"Harry Potter\"^^xsd:string ;\n",
            "    vcard-rdf:Family \"Potter\"^^xsd:string ;\n",
            "    vcard-rdf:Given \"Harry\"^^xsd:string .\n",
            "\n",
            ":JohnDoe a :Person ;\n",
            "    vcard-rdf:EMAIL \"doe@data.org\"^^xsd:string ;\n",
            "    vcard-rdf:Family \"Doe\"^^xsd:string ;\n",
            "    vcard-rdf:Given \"John\"^^xsd:string .\n",
            "\n",
            ":JohnSmith a :Person ;\n",
            "    vcard-rdf:EMAIL \"j.smith@data.org\"^^xsd:string ;\n",
            "    vcard-rdf:Family \"Smith\"^^xsd:string ;\n",
            "    vcard-rdf:Given \"John\"^^xsd:string .\n",
            "\n",
            ":SaraJones a :Person ;\n",
            "    vcard-rdf:EMAIL \"sara.jones@data.org\"^^xsd:string ;\n",
            "    vcard-rdf:Family \"Jones\"^^xsd:string ;\n",
            "    vcard-rdf:Given \"Sara\"^^xsd:string .\n",
            "\n",
            "vcard-rdf:EMAIL a rdfs:Datatype ;\n",
            "    rdfs:range xsd:string .\n",
            "\n",
            "vcard-rdf:Family a rdfs:Property ;\n",
            "    rdfs:range xsd:string .\n",
            "\n",
            "vcard-rdf:Given a rdfs:Datatype ;\n",
            "    rdfs:range xsd:string .\n",
            "\n",
            "\n"
          ],
          "name": "stdout"
        }
      ]
    },
    {
      "cell_type": "markdown",
      "metadata": {
        "id": "fEHfuqLTCRZV"
      },
      "source": [
        "RDFLib also supports graph adition: g1 += g2 returns  graph 1 with union of graph 2"
      ]
    },
    {
      "cell_type": "code",
      "metadata": {
        "id": "yLhCbZa6BSlb"
      },
      "source": [
        "g1 += g2"
      ],
      "execution_count": 7,
      "outputs": []
    },
    {
      "cell_type": "code",
      "metadata": {
        "id": "vpc3IzWGArb_",
        "outputId": "c854c546-e412-4c0c-f66e-18be5d7ef635",
        "colab": {
          "base_uri": "https://localhost:8080/",
          "height": 867
        }
      },
      "source": [
        "print(g1.serialize(format='turtle').decode(\"UTF-8\"))"
      ],
      "execution_count": 8,
      "outputs": [
        {
          "output_type": "stream",
          "text": [
            "@prefix : <http://data.org#> .\n",
            "@prefix rdfs: <http://www.w3.org/2000/01/rdf-schema#> .\n",
            "@prefix vcard-rdf: <http://www.w3.org/2001/vcard-rdf/3.0#> .\n",
            "@prefix xsd: <http://www.w3.org/2001/XMLSchema#> .\n",
            "\n",
            ":Person a rdfs:Class .\n",
            "\n",
            ":HarryPotter a :Person ;\n",
            "    vcard-rdf:EMAIL \"hpotter@hogwarts.org\"^^xsd:string ;\n",
            "    vcard-rdf:FN \"Harry Potter\"^^xsd:string ;\n",
            "    vcard-rdf:Family \"Potter\"^^xsd:string ;\n",
            "    vcard-rdf:Given \"Harry\"^^xsd:string .\n",
            "\n",
            ":JohnDoe a :Person ;\n",
            "    vcard-rdf:EMAIL \"doe@data.org\"^^xsd:string ;\n",
            "    vcard-rdf:Family \"Doe\"^^xsd:string ;\n",
            "    vcard-rdf:Given \"John\"^^xsd:string .\n",
            "\n",
            ":JohnSmith a :Person ;\n",
            "    vcard-rdf:EMAIL \"j.smith@data.org\"^^xsd:string ;\n",
            "    vcard-rdf:Family \"Smith\"^^xsd:string ;\n",
            "    vcard-rdf:Given \"John\"^^xsd:string .\n",
            "\n",
            ":SaraJones a :Person ;\n",
            "    vcard-rdf:EMAIL \"sara.jones@data.org\"^^xsd:string ;\n",
            "    vcard-rdf:Family \"Jones\"^^xsd:string ;\n",
            "    vcard-rdf:Given \"Sara\"^^xsd:string .\n",
            "\n",
            "vcard-rdf:EMAIL a rdfs:Datatype ;\n",
            "    rdfs:range xsd:string .\n",
            "\n",
            "vcard-rdf:Family a rdfs:Property ;\n",
            "    rdfs:range xsd:string .\n",
            "\n",
            "vcard-rdf:Given a rdfs:Datatype ;\n",
            "    rdfs:range xsd:string .\n",
            "\n",
            "<http://www.w3.org/2001/vcard-rdf/3.0/EMAIL> a rdfs:Datatype ;\n",
            "    rdfs:range xsd:string .\n",
            "\n",
            "<http://www.w3.org/2001/vcard-rdf/3.0/FN> a rdfs:Datatype ;\n",
            "    rdfs:range xsd:string .\n",
            "\n",
            "<http://www.w3.org/2001/vcard-rdf/3.0/Family> a rdfs:Property ;\n",
            "    rdfs:range xsd:string .\n",
            "\n",
            "<http://www.w3.org/2001/vcard-rdf/3.0/Given> a rdfs:Datatype ;\n",
            "    rdfs:range xsd:string .\n",
            "\n",
            "\n"
          ],
          "name": "stdout"
        }
      ]
    }
  ]
}