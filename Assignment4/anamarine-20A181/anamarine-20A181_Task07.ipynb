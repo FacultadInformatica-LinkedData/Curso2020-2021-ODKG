{
  "nbformat": 4,
  "nbformat_minor": 0,
  "metadata": {
    "colab": {
      "name": "Task07.ipynb",
      "provenance": [],
      "collapsed_sections": []
    },
    "kernelspec": {
      "name": "python3",
      "display_name": "Python 3"
    }
  },
  "cells": [
    {
      "cell_type": "markdown",
      "metadata": {
        "id": "nOOPLCHF7hLB"
      },
      "source": [
        "**Task 07: Querying RDF(s)**"
      ]
    },
    {
      "cell_type": "code",
      "metadata": {
        "id": "Yl9npCt8n6m-",
        "outputId": "47cce8f1-2870-4007-f550-631c5cc4dc1a",
        "colab": {
          "base_uri": "https://localhost:8080/",
          "height": 207
        }
      },
      "source": [
        "!pip install rdflib \n",
        "github_storage = \"https://raw.githubusercontent.com/FacultadInformatica-LinkedData/Curso2020-2021/master/Assignment4\""
      ],
      "execution_count": 1,
      "outputs": [
        {
          "output_type": "stream",
          "text": [
            "Collecting rdflib\n",
            "\u001b[?25l  Downloading https://files.pythonhosted.org/packages/d0/6b/6454aa1db753c0f8bc265a5bd5c10b5721a4bb24160fb4faf758cf6be8a1/rdflib-5.0.0-py3-none-any.whl (231kB)\n",
            "\u001b[K     |████████████████████████████████| 235kB 3.4MB/s \n",
            "\u001b[?25hCollecting isodate\n",
            "\u001b[?25l  Downloading https://files.pythonhosted.org/packages/9b/9f/b36f7774ff5ea8e428fdcfc4bb332c39ee5b9362ddd3d40d9516a55221b2/isodate-0.6.0-py2.py3-none-any.whl (45kB)\n",
            "\u001b[K     |████████████████████████████████| 51kB 4.9MB/s \n",
            "\u001b[?25hRequirement already satisfied: six in /usr/local/lib/python3.6/dist-packages (from rdflib) (1.15.0)\n",
            "Requirement already satisfied: pyparsing in /usr/local/lib/python3.6/dist-packages (from rdflib) (2.4.7)\n",
            "Installing collected packages: isodate, rdflib\n",
            "Successfully installed isodate-0.6.0 rdflib-5.0.0\n"
          ],
          "name": "stdout"
        }
      ]
    },
    {
      "cell_type": "markdown",
      "metadata": {
        "id": "XY7aPc86Bqoo"
      },
      "source": [
        "Read the RDF file"
      ]
    },
    {
      "cell_type": "code",
      "metadata": {
        "id": "9ERh415on7kF",
        "outputId": "420bcb26-a3b0-4837-eaf3-9ffa34e57c02",
        "colab": {
          "base_uri": "https://localhost:8080/",
          "height": 34
        }
      },
      "source": [
        "from rdflib import Graph, Namespace, Literal\n",
        "from rdflib.namespace import RDF, RDFS\n",
        "g = Graph()\n",
        "g.namespace_manager.bind('ns', Namespace(\"http://somewhere#\"), override=False)\n",
        "g.namespace_manager.bind('vcard', Namespace(\"http://www.w3.org/2001/vcard-rdf/3.0#\"), override=False)\n",
        "g.parse(github_storage+\"/resources/example6.rdf\", format=\"xml\")"
      ],
      "execution_count": 2,
      "outputs": [
        {
          "output_type": "execute_result",
          "data": {
            "text/plain": [
              "<Graph identifier=N80e7ff0318384d558f0c941f8d685199 (<class 'rdflib.graph.Graph'>)>"
            ]
          },
          "metadata": {
            "tags": []
          },
          "execution_count": 2
        }
      ]
    },
    {
      "cell_type": "code",
      "metadata": {
        "id": "RbP0cuWk1Sw-"
      },
      "source": [
        "from rdflib.plugins.sparql import prepareQuery\n",
        "from rdflib import XSD\n",
        "from rdflib import FOAF\n",
        "NS = Namespace(\"http://somewhere#\")\n",
        "VCARD = Namespace(\"http://www.w3.org/2001/vcard-rdf/3.0#\")"
      ],
      "execution_count": 3,
      "outputs": []
    },
    {
      "cell_type": "markdown",
      "metadata": {
        "id": "qp1oe2Eddsvo"
      },
      "source": [
        "**TASK 7.1: List all subclasses of \"Person\" with RDFLib and SPARQL**"
      ]
    },
    {
      "cell_type": "code",
      "metadata": {
        "id": "9nZeMMVz00dd"
      },
      "source": [
        "q71 = prepareQuery( '''\n",
        "    SELECT ?s\n",
        "    WHERE {\n",
        "      ?s rdfs:subClassOf ns:Person\n",
        "    } ''', \n",
        "    initNs = {'ns' : NS}\n",
        ")"
      ],
      "execution_count": 4,
      "outputs": []
    },
    {
      "cell_type": "code",
      "metadata": {
        "id": "_NWeTAk95FJ_",
        "outputId": "b354f2bf-81c5-442f-93b6-559fab2d0fce",
        "colab": {
          "base_uri": "https://localhost:8080/",
          "height": 34
        }
      },
      "source": [
        "for r in g.query(q71):\n",
        "  print(r)"
      ],
      "execution_count": 5,
      "outputs": [
        {
          "output_type": "stream",
          "text": [
            "(rdflib.term.URIRef('http://somewhere#Researcher'),)\n"
          ],
          "name": "stdout"
        }
      ]
    },
    {
      "cell_type": "code",
      "metadata": {
        "id": "eVBq7YinULN2",
        "outputId": "df6b86d9-3339-4bf3-b865-2cad5ae736b7",
        "colab": {
          "base_uri": "https://localhost:8080/",
          "height": 34
        }
      },
      "source": [
        "for s in g.subjects( predicate= RDFS.subClassOf, object= NS.Person):\n",
        "  print(s)"
      ],
      "execution_count": 38,
      "outputs": [
        {
          "output_type": "stream",
          "text": [
            "http://somewhere#Researcher\n"
          ],
          "name": "stdout"
        }
      ]
    },
    {
      "cell_type": "markdown",
      "metadata": {
        "id": "gM3DASkTQQ5Y"
      },
      "source": [
        "**TASK 7.2: List all individuals of \"Person\" with RDFLib and SPARQL (remember the subClasses)**\n"
      ]
    },
    {
      "cell_type": "code",
      "metadata": {
        "id": "d8Ns2Ct501EZ"
      },
      "source": [
        "q72 = prepareQuery( '''\n",
        "    SELECT ?s\n",
        "    WHERE {\n",
        "     { \n",
        "      ?s a ns:Person.\n",
        "     }  \n",
        "     UNION\n",
        "     {\n",
        "      ?s a ?y.\n",
        "      ?y rdfs:subClassOf ns:Person\n",
        "     }   \n",
        "    } ''', \n",
        "    initNs={'ns' : NS }\n",
        ")"
      ],
      "execution_count": 6,
      "outputs": []
    },
    {
      "cell_type": "code",
      "metadata": {
        "id": "FsdFSMEN5QcM",
        "outputId": "bd3d70b5-d7d4-44c2-d2b0-fcecdbcc619f",
        "colab": {
          "base_uri": "https://localhost:8080/",
          "height": 68
        }
      },
      "source": [
        "for r in g.query(q72):\n",
        "  print(r)"
      ],
      "execution_count": 7,
      "outputs": [
        {
          "output_type": "stream",
          "text": [
            "(rdflib.term.URIRef('http://somewhere#SaraJones'),)\n",
            "(rdflib.term.URIRef('http://somewhere#JohnSmith'),)\n",
            "(rdflib.term.URIRef('http://somewhere#JaneSmith'),)\n"
          ],
          "name": "stdout"
        }
      ]
    },
    {
      "cell_type": "code",
      "metadata": {
        "id": "CnogW6eObTAM",
        "outputId": "849a0f62-82aa-45ac-a252-84e475b49b44",
        "colab": {
          "base_uri": "https://localhost:8080/",
          "height": 68
        }
      },
      "source": [
        "for s in g.subjects(predicate = RDF.type, object = NS.Person):\n",
        "  print(s)\n",
        "for x in g.subjects(predicate= RDFS.subClassOf, object= NS.Person):\n",
        "  for s in g.subjects(predicate= RDF.type, object= x):\n",
        "    print(s)\n"
      ],
      "execution_count": 34,
      "outputs": [
        {
          "output_type": "stream",
          "text": [
            "http://somewhere#SaraJones\n",
            "http://somewhere#JohnSmith\n",
            "http://somewhere#JaneSmith\n"
          ],
          "name": "stdout"
        }
      ]
    },
    {
      "cell_type": "markdown",
      "metadata": {
        "id": "MXBqtBkJd22I"
      },
      "source": [
        "**TASK 7.3: List all individuals of \"Person\" and all their properties including their class with RDFLib and SPARQL**\n"
      ]
    },
    {
      "cell_type": "code",
      "metadata": {
        "id": "8Dc3eZ6701zC"
      },
      "source": [
        "q73 = prepareQuery( '''\n",
        "    SELECT ?s ?p\n",
        "    WHERE {\n",
        "      ?s a ns:Person.\n",
        "      ?s ?p ?o\n",
        "    } ''', \n",
        "     initNs = {'ns' : NS}\n",
        ")"
      ],
      "execution_count": null,
      "outputs": []
    },
    {
      "cell_type": "code",
      "metadata": {
        "id": "jCyAnR4k5r0v",
        "outputId": "92ce740e-f85b-499d-89c0-c0cf0a5b79cf",
        "colab": {
          "base_uri": "https://localhost:8080/",
          "height": 173
        }
      },
      "source": [
        "for r in g.query(q73):\n",
        "  print(r)"
      ],
      "execution_count": null,
      "outputs": [
        {
          "output_type": "stream",
          "text": [
            "(rdflib.term.URIRef('http://somewhere#JohnSmith'), rdflib.term.URIRef('http://www.w3.org/1999/02/22-rdf-syntax-ns#type'))\n",
            "(rdflib.term.URIRef('http://somewhere#JohnSmith'), rdflib.term.URIRef('http://somewhere#http://www.w3.org/2001/vcard-rdf/3.0/Given'))\n",
            "(rdflib.term.URIRef('http://somewhere#JohnSmith'), rdflib.term.URIRef('http://somewhere#http://www.w3.org/2001/vcard-rdf/3.0/Family'))\n",
            "(rdflib.term.URIRef('http://somewhere#JohnSmith'), rdflib.term.URIRef('http://somewhere#http://www.w3.org/2001/vcard-rdf/3.0/FN'))\n",
            "(rdflib.term.URIRef('http://somewhere#SaraJones'), rdflib.term.URIRef('http://somewhere#http://www.w3.org/2001/vcard-rdf/3.0/Given'))\n",
            "(rdflib.term.URIRef('http://somewhere#SaraJones'), rdflib.term.URIRef('http://www.w3.org/1999/02/22-rdf-syntax-ns#type'))\n",
            "(rdflib.term.URIRef('http://somewhere#SaraJones'), rdflib.term.URIRef('http://somewhere#http://www.w3.org/2001/vcard-rdf/3.0/Family'))\n",
            "(rdflib.term.URIRef('http://somewhere#SaraJones'), rdflib.term.URIRef('http://somewhere#http://www.w3.org/2001/vcard-rdf/3.0/FN'))\n"
          ],
          "name": "stdout"
        }
      ]
    },
    {
      "cell_type": "code",
      "metadata": {
        "id": "K4lrJToGDOTq",
        "outputId": "b6e96981-e9d9-4362-829f-b576f94b46ee",
        "colab": {
          "base_uri": "https://localhost:8080/",
          "height": 153
        }
      },
      "source": [
        "for s in g.subjects(predicate= RDF.type, object= NS.Person):\n",
        "  for s, p, o in g.triples((s, None, None)):\n",
        "    print(s, p)"
      ],
      "execution_count": 37,
      "outputs": [
        {
          "output_type": "stream",
          "text": [
            "http://somewhere#SaraJones http://somewhere#http://www.w3.org/2001/vcard-rdf/3.0/FN\n",
            "http://somewhere#SaraJones http://somewhere#http://www.w3.org/2001/vcard-rdf/3.0/Given\n",
            "http://somewhere#SaraJones http://www.w3.org/1999/02/22-rdf-syntax-ns#type\n",
            "http://somewhere#SaraJones http://somewhere#http://www.w3.org/2001/vcard-rdf/3.0/Family\n",
            "http://somewhere#JohnSmith http://somewhere#http://www.w3.org/2001/vcard-rdf/3.0/Given\n",
            "http://somewhere#JohnSmith http://somewhere#http://www.w3.org/2001/vcard-rdf/3.0/FN\n",
            "http://somewhere#JohnSmith http://somewhere#http://www.w3.org/2001/vcard-rdf/3.0/Family\n",
            "http://somewhere#JohnSmith http://www.w3.org/1999/02/22-rdf-syntax-ns#type\n"
          ],
          "name": "stdout"
        }
      ]
    },
    {
      "cell_type": "code",
      "metadata": {
        "id": "61m9D39o0zk5",
        "outputId": "2286e5ec-59e2-49e8-928d-a3919a9c13f8",
        "colab": {
          "base_uri": "https://localhost:8080/",
          "height": 731
        }
      },
      "source": [
        "print(g.serialize(format=\"turtle\").decode(\"UTF-8\"))"
      ],
      "execution_count": null,
      "outputs": [
        {
          "output_type": "stream",
          "text": [
            "@prefix ns: <http://somewhere#> .\n",
            "@prefix rdfs: <http://www.w3.org/2000/01/rdf-schema#> .\n",
            "@prefix vcard-rdf: <http://somewhere#http://www.w3.org/2001/vcard-rdf/3.0/> .\n",
            "@prefix xsd: <http://www.w3.org/2001/XMLSchema#> .\n",
            "\n",
            "ns:Person a rdfs:Class .\n",
            "\n",
            "ns:PhDstudent a rdfs:Class ;\n",
            "    rdfs:subClassOf ns:Researcher .\n",
            "\n",
            "ns:Researcher a rdfs:Class ;\n",
            "    rdfs:subClassOf ns:Person .\n",
            "\n",
            "ns:University a rdfs:Class .\n",
            "\n",
            "ns:JaneSmith a ns:Researcher ;\n",
            "    vcard-rdf:FN \"jane Smith\"^^xsd:string ;\n",
            "    vcard-rdf:Family \"Smith\"^^xsd:string ;\n",
            "    vcard-rdf:Given \"Jane\"^^xsd:string .\n",
            "\n",
            "ns:JohnSmith a ns:Person ;\n",
            "    vcard-rdf:FN \"John Smith\"^^xsd:string ;\n",
            "    vcard-rdf:Family \"Smith\"^^xsd:string ;\n",
            "    vcard-rdf:Given \"John\"^^xsd:string .\n",
            "\n",
            "ns:SaraJones a ns:Person ;\n",
            "    vcard-rdf:FN \"Sara Jones\"^^xsd:string ;\n",
            "    vcard-rdf:Family \"Jones\"^^xsd:string ;\n",
            "    vcard-rdf:Given \"Sara\"^^xsd:string .\n",
            "\n",
            "ns:UPM a ns:University .\n",
            "\n",
            "vcard-rdf:FN a rdfs:Datatype ;\n",
            "    rdfs:range xsd:string .\n",
            "\n",
            "vcard-rdf:Family a rdfs:Property ;\n",
            "    rdfs:range xsd:string .\n",
            "\n",
            "vcard-rdf:Given a rdfs:Datatype ;\n",
            "    rdfs:range xsd:string .\n",
            "\n",
            "\n"
          ],
          "name": "stdout"
        }
      ]
    }
  ]
}