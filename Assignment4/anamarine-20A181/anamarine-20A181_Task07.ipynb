{
  "nbformat": 4,
  "nbformat_minor": 0,
  "metadata": {
    "colab": {
      "name": "anamarine-20A181_Task07.ipynb",
      "provenance": [],
      "collapsed_sections": []
    },
    "kernelspec": {
      "name": "python3",
      "display_name": "Python 3"
    }
  },
  "cells": [
    {
      "cell_type": "markdown",
      "metadata": {
        "id": "nOOPLCHF7hLB"
      },
      "source": [
        "**Task 07: Querying RDF(s)**"
      ]
    },
    {
      "cell_type": "code",
      "metadata": {
        "id": "Yl9npCt8n6m-",
        "outputId": "a59384e2-58e2-47eb-9694-4007ee01228f",
        "colab": {
          "base_uri": "https://localhost:8080/",
          "height": 207
        }
      },
      "source": [
        "!pip install rdflib \n",
        "github_storage = \"https://raw.githubusercontent.com/FacultadInformatica-LinkedData/Curso2020-2021/master/Assignment4\""
      ],
      "execution_count": 1,
      "outputs": [
        {
          "output_type": "stream",
          "text": [
            "Collecting rdflib\n",
            "\u001b[?25l  Downloading https://files.pythonhosted.org/packages/d0/6b/6454aa1db753c0f8bc265a5bd5c10b5721a4bb24160fb4faf758cf6be8a1/rdflib-5.0.0-py3-none-any.whl (231kB)\n",
            "\r\u001b[K     |█▍                              | 10kB 16.6MB/s eta 0:00:01\r\u001b[K     |██▉                             | 20kB 1.7MB/s eta 0:00:01\r\u001b[K     |████▎                           | 30kB 2.1MB/s eta 0:00:01\r\u001b[K     |█████▊                          | 40kB 2.4MB/s eta 0:00:01\r\u001b[K     |███████                         | 51kB 2.0MB/s eta 0:00:01\r\u001b[K     |████████▌                       | 61kB 2.2MB/s eta 0:00:01\r\u001b[K     |██████████                      | 71kB 2.5MB/s eta 0:00:01\r\u001b[K     |███████████▍                    | 81kB 2.7MB/s eta 0:00:01\r\u001b[K     |████████████▊                   | 92kB 2.9MB/s eta 0:00:01\r\u001b[K     |██████████████▏                 | 102kB 2.8MB/s eta 0:00:01\r\u001b[K     |███████████████▋                | 112kB 2.8MB/s eta 0:00:01\r\u001b[K     |█████████████████               | 122kB 2.8MB/s eta 0:00:01\r\u001b[K     |██████████████████▍             | 133kB 2.8MB/s eta 0:00:01\r\u001b[K     |███████████████████▉            | 143kB 2.8MB/s eta 0:00:01\r\u001b[K     |█████████████████████▎          | 153kB 2.8MB/s eta 0:00:01\r\u001b[K     |██████████████████████▊         | 163kB 2.8MB/s eta 0:00:01\r\u001b[K     |████████████████████████        | 174kB 2.8MB/s eta 0:00:01\r\u001b[K     |█████████████████████████▌      | 184kB 2.8MB/s eta 0:00:01\r\u001b[K     |███████████████████████████     | 194kB 2.8MB/s eta 0:00:01\r\u001b[K     |████████████████████████████▍   | 204kB 2.8MB/s eta 0:00:01\r\u001b[K     |█████████████████████████████▉  | 215kB 2.8MB/s eta 0:00:01\r\u001b[K     |███████████████████████████████▏| 225kB 2.8MB/s eta 0:00:01\r\u001b[K     |████████████████████████████████| 235kB 2.8MB/s \n",
            "\u001b[?25hRequirement already satisfied: six in /usr/local/lib/python3.6/dist-packages (from rdflib) (1.15.0)\n",
            "Collecting isodate\n",
            "\u001b[?25l  Downloading https://files.pythonhosted.org/packages/9b/9f/b36f7774ff5ea8e428fdcfc4bb332c39ee5b9362ddd3d40d9516a55221b2/isodate-0.6.0-py2.py3-none-any.whl (45kB)\n",
            "\u001b[K     |████████████████████████████████| 51kB 4.5MB/s \n",
            "\u001b[?25hRequirement already satisfied: pyparsing in /usr/local/lib/python3.6/dist-packages (from rdflib) (2.4.7)\n",
            "Installing collected packages: isodate, rdflib\n",
            "Successfully installed isodate-0.6.0 rdflib-5.0.0\n"
          ],
          "name": "stdout"
        }
      ]
    },
    {
      "cell_type": "markdown",
      "metadata": {
        "id": "XY7aPc86Bqoo"
      },
      "source": [
        "Read the RDF file"
      ]
    },
    {
      "cell_type": "code",
      "metadata": {
        "id": "9ERh415on7kF",
        "outputId": "679a3eaf-1105-4b9c-8f13-3279b20d618e",
        "colab": {
          "base_uri": "https://localhost:8080/",
          "height": 34
        }
      },
      "source": [
        "from rdflib import Graph, Namespace, Literal\n",
        "from rdflib.namespace import RDF, RDFS\n",
        "g = Graph()\n",
        "g.namespace_manager.bind('ns', Namespace(\"http://somewhere#\"), override=False)\n",
        "g.namespace_manager.bind('vcard', Namespace(\"http://www.w3.org/2001/vcard-rdf/3.0#\"), override=False)\n",
        "g.parse(github_storage+\"/resources/example6.rdf\", format=\"xml\")"
      ],
      "execution_count": 2,
      "outputs": [
        {
          "output_type": "execute_result",
          "data": {
            "text/plain": [
              "<Graph identifier=N45a320cf7fae4baa8cf662a259ab9a9a (<class 'rdflib.graph.Graph'>)>"
            ]
          },
          "metadata": {
            "tags": []
          },
          "execution_count": 2
        }
      ]
    },
    {
      "cell_type": "code",
      "metadata": {
        "id": "RbP0cuWk1Sw-"
      },
      "source": [
        "from rdflib.plugins.sparql import prepareQuery\n",
        "from rdflib import XSD\n",
        "from rdflib import FOAF\n",
        "NS = Namespace(\"http://somewhere#\")\n",
        "VCARD = Namespace(\"http://www.w3.org/2001/vcard-rdf/3.0#\")"
      ],
      "execution_count": 3,
      "outputs": []
    },
    {
      "cell_type": "markdown",
      "metadata": {
        "id": "qp1oe2Eddsvo"
      },
      "source": [
        "**TASK 7.1: List all subclasses of \"Person\" with RDFLib and SPARQL**"
      ]
    },
    {
      "cell_type": "code",
      "metadata": {
        "id": "9nZeMMVz00dd"
      },
      "source": [
        "q71 = prepareQuery( '''\n",
        "    SELECT ?s\n",
        "    WHERE {\n",
        "      ?s rdfs:subClassOf* ns:Person.\n",
        "    } ''', \n",
        "    initNs = {'ns' : NS}\n",
        ")"
      ],
      "execution_count": 17,
      "outputs": []
    },
    {
      "cell_type": "code",
      "metadata": {
        "id": "_NWeTAk95FJ_",
        "outputId": "77cb7b43-48b5-4383-b4b3-1cd3106633ee",
        "colab": {
          "base_uri": "https://localhost:8080/",
          "height": 68
        }
      },
      "source": [
        "for r in g.query(q71):\n",
        "  print(r)"
      ],
      "execution_count": 18,
      "outputs": [
        {
          "output_type": "stream",
          "text": [
            "(rdflib.term.URIRef('http://somewhere#Person'),)\n",
            "(rdflib.term.URIRef('http://somewhere#Researcher'),)\n",
            "(rdflib.term.URIRef('http://somewhere#PhDstudent'),)\n"
          ],
          "name": "stdout"
        }
      ]
    },
    {
      "cell_type": "code",
      "metadata": {
        "id": "eVBq7YinULN2",
        "outputId": "b5e73d17-2155-4343-e1f9-6f6d4884f837",
        "colab": {
          "base_uri": "https://localhost:8080/",
          "height": 34
        }
      },
      "source": [
        "for s in g.subjects( predicate= RDFS.subClassOf, object= NS.Person):\n",
        "  for ss in g.subjects (predicate= RDFS.subClassOf, object= s):\n",
        "    print(s,ss)"
      ],
      "execution_count": 11,
      "outputs": [
        {
          "output_type": "stream",
          "text": [
            "http://somewhere#Researcher http://somewhere#PhDstudent\n"
          ],
          "name": "stdout"
        }
      ]
    },
    {
      "cell_type": "markdown",
      "metadata": {
        "id": "gM3DASkTQQ5Y"
      },
      "source": [
        "**TASK 7.2: List all individuals of \"Person\" with RDFLib and SPARQL (remember the subClasses)**\n"
      ]
    },
    {
      "cell_type": "code",
      "metadata": {
        "id": "d8Ns2Ct501EZ"
      },
      "source": [
        "q72 = prepareQuery( '''\n",
        "    SELECT ?s\n",
        "    WHERE {\n",
        "     { \n",
        "      ?s a ns:Person.\n",
        "     }  \n",
        "     UNION\n",
        "     {\n",
        "      ?s a ?y.\n",
        "      ?y rdfs:subClassOf ns:Person\n",
        "     }   \n",
        "    } ''', \n",
        "    initNs={'ns' : NS }\n",
        ")"
      ],
      "execution_count": 19,
      "outputs": []
    },
    {
      "cell_type": "code",
      "metadata": {
        "id": "FsdFSMEN5QcM",
        "outputId": "43934eb8-4084-42a6-ad74-dd98f74866a7",
        "colab": {
          "base_uri": "https://localhost:8080/",
          "height": 68
        }
      },
      "source": [
        "for r in g.query(q72):\n",
        "  print(r)"
      ],
      "execution_count": 20,
      "outputs": [
        {
          "output_type": "stream",
          "text": [
            "(rdflib.term.URIRef('http://somewhere#JohnSmith'),)\n",
            "(rdflib.term.URIRef('http://somewhere#SaraJones'),)\n",
            "(rdflib.term.URIRef('http://somewhere#JaneSmith'),)\n"
          ],
          "name": "stdout"
        }
      ]
    },
    {
      "cell_type": "code",
      "metadata": {
        "id": "CnogW6eObTAM",
        "outputId": "7bb569ae-bd55-464c-b7a3-1d6570698a67",
        "colab": {
          "base_uri": "https://localhost:8080/",
          "height": 68
        }
      },
      "source": [
        "for s in g.subjects(predicate = RDF.type, object = NS.Person):\n",
        "  print(s)\n",
        "for x in g.subjects(predicate= RDFS.subClassOf, object= NS.Person):\n",
        "  for s in g.subjects(predicate= RDF.type, object= x):\n",
        "    print(s)\n"
      ],
      "execution_count": 21,
      "outputs": [
        {
          "output_type": "stream",
          "text": [
            "http://somewhere#JohnSmith\n",
            "http://somewhere#SaraJones\n",
            "http://somewhere#JaneSmith\n"
          ],
          "name": "stdout"
        }
      ]
    },
    {
      "cell_type": "markdown",
      "metadata": {
        "id": "MXBqtBkJd22I"
      },
      "source": [
        "**TASK 7.3: List all individuals of \"Person\" and all their properties including their class with RDFLib and SPARQL**\n"
      ]
    },
    {
      "cell_type": "code",
      "metadata": {
        "id": "8Dc3eZ6701zC"
      },
      "source": [
        "q73 = prepareQuery( '''\n",
        "    SELECT ?s ?p\n",
        "    WHERE {\n",
        "      ?s a ns:Person.\n",
        "      ?s ?p ?o\n",
        "    } ''', \n",
        "     initNs = {'ns' : NS}\n",
        ")"
      ],
      "execution_count": 22,
      "outputs": []
    },
    {
      "cell_type": "code",
      "metadata": {
        "id": "jCyAnR4k5r0v",
        "outputId": "6a5b3ed6-0698-40dd-8a1f-57ab7e9acf05",
        "colab": {
          "base_uri": "https://localhost:8080/",
          "height": 173
        }
      },
      "source": [
        "for r in g.query(q73):\n",
        "  print(r)"
      ],
      "execution_count": 23,
      "outputs": [
        {
          "output_type": "stream",
          "text": [
            "(rdflib.term.URIRef('http://somewhere#JohnSmith'), rdflib.term.URIRef('http://www.w3.org/1999/02/22-rdf-syntax-ns#type'))\n",
            "(rdflib.term.URIRef('http://somewhere#JohnSmith'), rdflib.term.URIRef('http://somewhere#http://www.w3.org/2001/vcard-rdf/3.0/Given'))\n",
            "(rdflib.term.URIRef('http://somewhere#JohnSmith'), rdflib.term.URIRef('http://somewhere#http://www.w3.org/2001/vcard-rdf/3.0/Family'))\n",
            "(rdflib.term.URIRef('http://somewhere#JohnSmith'), rdflib.term.URIRef('http://somewhere#http://www.w3.org/2001/vcard-rdf/3.0/FN'))\n",
            "(rdflib.term.URIRef('http://somewhere#SaraJones'), rdflib.term.URIRef('http://somewhere#http://www.w3.org/2001/vcard-rdf/3.0/Given'))\n",
            "(rdflib.term.URIRef('http://somewhere#SaraJones'), rdflib.term.URIRef('http://www.w3.org/1999/02/22-rdf-syntax-ns#type'))\n",
            "(rdflib.term.URIRef('http://somewhere#SaraJones'), rdflib.term.URIRef('http://somewhere#http://www.w3.org/2001/vcard-rdf/3.0/FN'))\n",
            "(rdflib.term.URIRef('http://somewhere#SaraJones'), rdflib.term.URIRef('http://somewhere#http://www.w3.org/2001/vcard-rdf/3.0/Family'))\n"
          ],
          "name": "stdout"
        }
      ]
    },
    {
      "cell_type": "code",
      "metadata": {
        "id": "K4lrJToGDOTq",
        "outputId": "6c12837e-ced2-4dd2-a11b-4b3d300869fa",
        "colab": {
          "base_uri": "https://localhost:8080/",
          "height": 153
        }
      },
      "source": [
        "for s in g.subjects(predicate= RDF.type, object= NS.Person):\n",
        "  for s, p, o in g.triples((s, None, None)):\n",
        "    print(s, p)"
      ],
      "execution_count": 24,
      "outputs": [
        {
          "output_type": "stream",
          "text": [
            "http://somewhere#JohnSmith http://www.w3.org/1999/02/22-rdf-syntax-ns#type\n",
            "http://somewhere#JohnSmith http://somewhere#http://www.w3.org/2001/vcard-rdf/3.0/Given\n",
            "http://somewhere#JohnSmith http://somewhere#http://www.w3.org/2001/vcard-rdf/3.0/Family\n",
            "http://somewhere#JohnSmith http://somewhere#http://www.w3.org/2001/vcard-rdf/3.0/FN\n",
            "http://somewhere#SaraJones http://somewhere#http://www.w3.org/2001/vcard-rdf/3.0/Given\n",
            "http://somewhere#SaraJones http://www.w3.org/1999/02/22-rdf-syntax-ns#type\n",
            "http://somewhere#SaraJones http://somewhere#http://www.w3.org/2001/vcard-rdf/3.0/FN\n",
            "http://somewhere#SaraJones http://somewhere#http://www.w3.org/2001/vcard-rdf/3.0/Family\n"
          ],
          "name": "stdout"
        }
      ]
    },
    {
      "cell_type": "code",
      "metadata": {
        "id": "61m9D39o0zk5",
        "outputId": "2ff9ae37-ebcf-460f-ae90-3db49c0ba11e",
        "colab": {
          "base_uri": "https://localhost:8080/",
          "height": 731
        }
      },
      "source": [
        "print(g.serialize(format=\"turtle\").decode(\"UTF-8\"))"
      ],
      "execution_count": 25,
      "outputs": [
        {
          "output_type": "stream",
          "text": [
            "@prefix ns: <http://somewhere#> .\n",
            "@prefix rdfs: <http://www.w3.org/2000/01/rdf-schema#> .\n",
            "@prefix vcard-rdf: <http://somewhere#http://www.w3.org/2001/vcard-rdf/3.0/> .\n",
            "@prefix xsd: <http://www.w3.org/2001/XMLSchema#> .\n",
            "\n",
            "ns:Person a rdfs:Class .\n",
            "\n",
            "ns:PhDstudent a rdfs:Class ;\n",
            "    rdfs:subClassOf ns:Researcher .\n",
            "\n",
            "ns:Researcher a rdfs:Class ;\n",
            "    rdfs:subClassOf ns:Person .\n",
            "\n",
            "ns:University a rdfs:Class .\n",
            "\n",
            "ns:JaneSmith a ns:Researcher ;\n",
            "    vcard-rdf:FN \"jane Smith\"^^xsd:string ;\n",
            "    vcard-rdf:Family \"Smith\"^^xsd:string ;\n",
            "    vcard-rdf:Given \"Jane\"^^xsd:string .\n",
            "\n",
            "ns:JohnSmith a ns:Person ;\n",
            "    vcard-rdf:FN \"John Smith\"^^xsd:string ;\n",
            "    vcard-rdf:Family \"Smith\"^^xsd:string ;\n",
            "    vcard-rdf:Given \"John\"^^xsd:string .\n",
            "\n",
            "ns:SaraJones a ns:Person ;\n",
            "    vcard-rdf:FN \"Sara Jones\"^^xsd:string ;\n",
            "    vcard-rdf:Family \"Jones\"^^xsd:string ;\n",
            "    vcard-rdf:Given \"Sara\"^^xsd:string .\n",
            "\n",
            "ns:UPM a ns:University .\n",
            "\n",
            "vcard-rdf:FN a rdfs:Datatype ;\n",
            "    rdfs:range xsd:string .\n",
            "\n",
            "vcard-rdf:Family a rdfs:Property ;\n",
            "    rdfs:range xsd:string .\n",
            "\n",
            "vcard-rdf:Given a rdfs:Datatype ;\n",
            "    rdfs:range xsd:string .\n",
            "\n",
            "\n"
          ],
          "name": "stdout"
        }
      ]
    }
  ]
}