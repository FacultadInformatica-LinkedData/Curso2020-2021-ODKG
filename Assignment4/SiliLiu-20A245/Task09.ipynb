{
  "nbformat": 4,
  "nbformat_minor": 0,
  "metadata": {
    "colab": {
      "name": "Task09.ipynb",
      "provenance": [],
      "collapsed_sections": []
    },
    "kernelspec": {
      "name": "python3",
      "display_name": "Python 3"
    }
  },
  "cells": [
    {
      "cell_type": "markdown",
      "metadata": {
        "id": "wIhJ69byU2Ad"
      },
      "source": [
        "**Task 09: Data linking**"
      ]
    },
    {
      "cell_type": "code",
      "metadata": {
        "id": "0sQG2Y915Isp",
        "outputId": "58e5a1c6-5882-400c-c8eb-704a52096075",
        "colab": {
          "base_uri": "https://localhost:8080/",
          "height": 89
        }
      },
      "source": [
        "!pip install rdflib\n",
        "github_storage = \"https://raw.githubusercontent.com/FacultadInformatica-LinkedData/Curso2020-2021/master/Assignment4/\""
      ],
      "execution_count": 30,
      "outputs": [
        {
          "output_type": "stream",
          "text": [
            "Requirement already satisfied: rdflib in /usr/local/lib/python3.6/dist-packages (5.0.0)\n",
            "Requirement already satisfied: six in /usr/local/lib/python3.6/dist-packages (from rdflib) (1.15.0)\n",
            "Requirement already satisfied: isodate in /usr/local/lib/python3.6/dist-packages (from rdflib) (0.6.0)\n",
            "Requirement already satisfied: pyparsing in /usr/local/lib/python3.6/dist-packages (from rdflib) (2.4.7)\n"
          ],
          "name": "stdout"
        }
      ]
    },
    {
      "cell_type": "code",
      "metadata": {
        "id": "Jb4QeLue5NLr",
        "outputId": "3e4a0ebe-ec2d-4e11-8321-2dd926431f38",
        "colab": {
          "base_uri": "https://localhost:8080/",
          "height": 35
        }
      },
      "source": [
        "from rdflib import Graph, Namespace, Literal, URIRef\n",
        "g1 = Graph()\n",
        "g2 = Graph()\n",
        "g3 = Graph()\n",
        "g1.parse(github_storage+\"resources/data03.rdf\", format=\"xml\")\n",
        "g2.parse(github_storage+\"resources/data04.rdf\", format=\"xml\")"
      ],
      "execution_count": 31,
      "outputs": [
        {
          "output_type": "execute_result",
          "data": {
            "text/plain": [
              "<Graph identifier=N064d5527ce094b2f8f2be87b6e526861 (<class 'rdflib.graph.Graph'>)>"
            ]
          },
          "metadata": {
            "tags": []
          },
          "execution_count": 31
        }
      ]
    },
    {
      "cell_type": "markdown",
      "metadata": {
        "id": "5wfBZiQSU827"
      },
      "source": [
        "Search for individuals in the two graphs and link them using the OWL: sameAs property, insert these matches in g3. We consider that two individuals are the same if they have the same nickname and family name. Keep in mind that the URIs do not have to be the same for the same individual in the two graphs."
      ]
    },
    {
      "cell_type": "code",
      "metadata": {
        "id": "L0PEDoiLix6J",
        "outputId": "c67f4254-cd55-47ce-e02f-baf150ce15fb",
        "colab": {
          "base_uri": "https://localhost:8080/",
          "height": 917
        }
      },
      "source": [
        "from rdflib.plugins.sparql import prepareQuery\n",
        "from rdflib.namespace import RDF, RDFS, OWL\n",
        "\n",
        "\n",
        "vcard = Namespace(\"http://www.w3.org/2001/vcard-rdf/3.0#\")\n",
        "ns3 = Namespace(\"http://data.three.org#\") ##Follow the Documento\n",
        "ns4 = Namespace(\"http://data.four.org#\") ##Follow the Documento\n",
        "\n",
        "#Search for individuals in the two graphs\n",
        "for s,p,o in g1:\n",
        "  print(s,p,o)\n",
        "\n",
        "print(\"-------------------------------------------------------------------------\")\n",
        "\n",
        "for s,p,o in g2:\n",
        "  print(s,p,o)"
      ],
      "execution_count": 32,
      "outputs": [
        {
          "output_type": "stream",
          "text": [
            "http://data.three.org#SaraJones http://www.w3.org/2001/vcard-rdf/3.0#Family Jones\n",
            "http://data.three.org#JohnSmith http://www.w3.org/1999/02/22-rdf-syntax-ns#type http://data.three.org#Person\n",
            "http://www.w3.org/2001/vcard-rdf/3.0/Given http://www.w3.org/2000/01/rdf-schema#range http://www.w3.org/2001/XMLSchema#string\n",
            "http://data.three.org#JohnDoe http://www.w3.org/2001/vcard-rdf/3.0#Family Doe\n",
            "http://data.three.org#SaraJones http://www.w3.org/2001/vcard-rdf/3.0#Given Sara\n",
            "http://www.w3.org/2001/vcard-rdf/3.0/Family http://www.w3.org/2000/01/rdf-schema#range http://www.w3.org/2001/XMLSchema#string\n",
            "http://data.three.org#SaraJones http://www.w3.org/1999/02/22-rdf-syntax-ns#type http://data.three.org#Person\n",
            "http://data.three.org#HarryPotter http://www.w3.org/2001/vcard-rdf/3.0#FN Harry Potter\n",
            "http://data.three.org#JohnSmith http://www.w3.org/2001/vcard-rdf/3.0#FN John Smith\n",
            "http://data.three.org#JohnSmith http://www.w3.org/2001/vcard-rdf/3.0#Family Smith\n",
            "http://data.three.org#SaraJones http://www.w3.org/2001/vcard-rdf/3.0#FN Sara Jones\n",
            "http://www.w3.org/2001/vcard-rdf/3.0/Given http://www.w3.org/1999/02/22-rdf-syntax-ns#type http://www.w3.org/2000/01/rdf-schema#Datatype\n",
            "http://data.three.org#JohnDoe http://www.w3.org/2001/vcard-rdf/3.0#Given John\n",
            "http://data.three.org#JohnDoe http://www.w3.org/1999/02/22-rdf-syntax-ns#type http://data.three.org#Person\n",
            "http://data.three.org#JohnSmith http://www.w3.org/2001/vcard-rdf/3.0#Given John\n",
            "http://data.three.org#HarryPotter http://www.w3.org/1999/02/22-rdf-syntax-ns#type http://data.three.org#Person\n",
            "http://www.w3.org/2001/vcard-rdf/3.0/FN http://www.w3.org/2000/01/rdf-schema#range http://www.w3.org/2001/XMLSchema#string\n",
            "http://data.three.org#JohnDoe http://www.w3.org/2001/vcard-rdf/3.0#FN John Doe\n",
            "http://www.w3.org/2001/vcard-rdf/3.0/Family http://www.w3.org/1999/02/22-rdf-syntax-ns#type http://www.w3.org/2000/01/rdf-schema#Property\n",
            "http://data.three.org#HarryPotter http://www.w3.org/2001/vcard-rdf/3.0#Given Harry\n",
            "http://data.three.org#Person http://www.w3.org/1999/02/22-rdf-syntax-ns#type http://www.w3.org/2000/01/rdf-schema#Class\n",
            "http://www.w3.org/2001/vcard-rdf/3.0/FN http://www.w3.org/1999/02/22-rdf-syntax-ns#type http://www.w3.org/2000/01/rdf-schema#Datatype\n",
            "-------------------------------------------------------------------------\n",
            "http://data.four.org#0001 http://www.w3.org/2001/vcard-rdf/3.0#Family Jones\n",
            "http://data.four.org#0001 http://www.w3.org/2001/vcard-rdf/3.0#FN Sara Jones\n",
            "http://data.four.org#0002 http://www.w3.org/2001/vcard-rdf/3.0#Family Smith\n",
            "http://www.w3.org/2001/vcard-rdf/3.0/FN http://www.w3.org/2000/01/rdf-schema#range http://www.w3.org/2001/XMLSchema#string\n",
            "http://data.four.org#0001 http://www.w3.org/2001/vcard-rdf/3.0#Given Sara\n",
            "http://data.four.org#0005 http://www.w3.org/2001/vcard-rdf/3.0#FN John Doe\n",
            "http://data.four.org#0005 http://www.w3.org/2001/vcard-rdf/3.0#Family Doe\n",
            "http://data.four.org#0004 http://www.w3.org/2001/vcard-rdf/3.0#FN Tim Berners Lee\n",
            "http://data.four.org#0005 http://www.w3.org/2001/vcard-rdf/3.0#Given John\n",
            "http://data.four.org#0002 http://www.w3.org/2001/vcard-rdf/3.0#Given Jonathan\n",
            "http://data.four.org#0004 http://www.w3.org/2001/vcard-rdf/3.0#Given Tim\n",
            "http://data.four.org#0004 http://www.w3.org/1999/02/22-rdf-syntax-ns#type http://data.four.org#Person\n",
            "http://data.four.org#0003 http://www.w3.org/2001/vcard-rdf/3.0#FN Harry Potter\n",
            "http://data.four.org#0001 http://www.w3.org/1999/02/22-rdf-syntax-ns#type http://data.four.org#Person\n",
            "http://www.w3.org/2001/vcard-rdf/3.0/Given http://www.w3.org/2000/01/rdf-schema#range http://www.w3.org/2001/XMLSchema#string\n",
            "http://www.w3.org/2001/vcard-rdf/3.0/FN http://www.w3.org/1999/02/22-rdf-syntax-ns#type http://www.w3.org/2000/01/rdf-schema#Datatype\n",
            "http://data.four.org#0002 http://www.w3.org/1999/02/22-rdf-syntax-ns#type http://data.four.org#Person\n",
            "http://data.four.org#0002 http://www.w3.org/2001/vcard-rdf/3.0#FN John Smith\n",
            "http://data.four.org#0003 http://www.w3.org/2001/vcard-rdf/3.0#Family Potter\n",
            "http://data.four.org#Person http://www.w3.org/1999/02/22-rdf-syntax-ns#type http://www.w3.org/2000/01/rdf-schema#Class\n",
            "http://data.four.org#0004 http://www.w3.org/2001/vcard-rdf/3.0#Family Berners Lee\n",
            "http://data.four.org#0003 http://www.w3.org/2001/vcard-rdf/3.0#Given Harry\n",
            "http://www.w3.org/2001/vcard-rdf/3.0/Family http://www.w3.org/2000/01/rdf-schema#range http://www.w3.org/2001/XMLSchema#string\n",
            "http://data.four.org#0005 http://www.w3.org/1999/02/22-rdf-syntax-ns#type http://data.four.org#Person\n",
            "http://www.w3.org/2001/vcard-rdf/3.0/Family http://www.w3.org/1999/02/22-rdf-syntax-ns#type http://www.w3.org/2000/01/rdf-schema#Property\n",
            "http://data.four.org#0003 http://www.w3.org/1999/02/22-rdf-syntax-ns#type http://data.four.org#Person\n",
            "http://www.w3.org/2001/vcard-rdf/3.0/Given http://www.w3.org/1999/02/22-rdf-syntax-ns#type http://www.w3.org/2000/01/rdf-schema#Datatype\n"
          ],
          "name": "stdout"
        }
      ]
    },
    {
      "cell_type": "code",
      "metadata": {
        "id": "WUcl8Mx7kM2b",
        "outputId": "4e2c0aca-d119-4b84-a01e-46651af04988",
        "colab": {
          "base_uri": "https://localhost:8080/",
          "height": 199
        }
      },
      "source": [
        "#Search for nicknames(Consider it`s like given name) and family names in the two graphs = FullNAME\n",
        "q1 = prepareQuery('''\n",
        "  SELECT \n",
        "    ?Subject ?GIVEN ?FAMILY\n",
        "  WHERE { \n",
        "    ?Subject rdf:type ns:Person.\n",
        "    ?Subject vcard:Family ?GIVEN.\n",
        "    ?Subject vcard:Given ?FAMILY.\n",
        "  }\n",
        "  ''',\n",
        "  initNs = {\"rdf\":RDF, \"ns\":ns3, \"vcard\": vcard}\n",
        ")\n",
        "g_aux1 = []\n",
        "for r in g1.query(q1):\n",
        "  g_aux1.append(r)#insert \"append\"\n",
        "  print(r)\n",
        "\n",
        "\n",
        "\n",
        "print(\"-------------------------------------------------------------------------\")\n",
        "q2 = prepareQuery('''\n",
        "  SELECT \n",
        "    ?Subject ?GIVEN ?FAMILY\n",
        "  WHERE { \n",
        "    ?Subject rdf:type ns:Person.\n",
        "    ?Subject vcard:Family ?GIVEN.\n",
        "    ?Subject vcard:Given ?FAMILY.\n",
        "  }\n",
        "  ''',\n",
        "  initNs = {\"rdf\":RDF, \"ns\":ns4, \"vcard\": vcard}\n",
        ")\n",
        "g_aux2 = []\n",
        "for r in g2.query(q2):\n",
        "  g_aux2.append(r)\n",
        "  print(r)\n",
        "\n"
      ],
      "execution_count": 38,
      "outputs": [
        {
          "output_type": "stream",
          "text": [
            "(rdflib.term.URIRef('http://data.three.org#SaraJones'), rdflib.term.Literal('Jones', datatype=rdflib.term.URIRef('http://www.w3.org/2001/XMLSchema#string')), rdflib.term.Literal('Sara', datatype=rdflib.term.URIRef('http://www.w3.org/2001/XMLSchema#string')))\n",
            "(rdflib.term.URIRef('http://data.three.org#JohnDoe'), rdflib.term.Literal('Doe', datatype=rdflib.term.URIRef('http://www.w3.org/2001/XMLSchema#string')), rdflib.term.Literal('John', datatype=rdflib.term.URIRef('http://www.w3.org/2001/XMLSchema#string')))\n",
            "(rdflib.term.URIRef('http://data.three.org#JohnSmith'), rdflib.term.Literal('Smith', datatype=rdflib.term.URIRef('http://www.w3.org/2001/XMLSchema#string')), rdflib.term.Literal('John', datatype=rdflib.term.URIRef('http://www.w3.org/2001/XMLSchema#string')))\n",
            "-------------------------------------------------------------------------\n",
            "(rdflib.term.URIRef('http://data.four.org#0002'), rdflib.term.Literal('Smith', datatype=rdflib.term.URIRef('http://www.w3.org/2001/XMLSchema#string')), rdflib.term.Literal('Jonathan', datatype=rdflib.term.URIRef('http://www.w3.org/2001/XMLSchema#string')))\n",
            "(rdflib.term.URIRef('http://data.four.org#0001'), rdflib.term.Literal('Jones', datatype=rdflib.term.URIRef('http://www.w3.org/2001/XMLSchema#string')), rdflib.term.Literal('Sara', datatype=rdflib.term.URIRef('http://www.w3.org/2001/XMLSchema#string')))\n",
            "(rdflib.term.URIRef('http://data.four.org#0005'), rdflib.term.Literal('Doe', datatype=rdflib.term.URIRef('http://www.w3.org/2001/XMLSchema#string')), rdflib.term.Literal('John', datatype=rdflib.term.URIRef('http://www.w3.org/2001/XMLSchema#string')))\n",
            "(rdflib.term.URIRef('http://data.four.org#0003'), rdflib.term.Literal('Potter', datatype=rdflib.term.URIRef('http://www.w3.org/2001/XMLSchema#string')), rdflib.term.Literal('Harry', datatype=rdflib.term.URIRef('http://www.w3.org/2001/XMLSchema#string')))\n",
            "(rdflib.term.URIRef('http://data.four.org#0004'), rdflib.term.Literal('Berners Lee', datatype=rdflib.term.URIRef('http://www.w3.org/2001/XMLSchema#string')), rdflib.term.Literal('Tim', datatype=rdflib.term.URIRef('http://www.w3.org/2001/XMLSchema#string')))\n"
          ],
          "name": "stdout"
        }
      ]
    },
    {
      "cell_type": "code",
      "metadata": {
        "id": "e4ft8a8yn9dB",
        "outputId": "57805896-3788-461d-920f-8e06b73f23b8",
        "colab": {
          "base_uri": "https://localhost:8080/",
          "height": 53
        }
      },
      "source": [
        "#sameAs\n",
        "for s1 in g_aux1:\n",
        "  for s2 in g_aux2:\n",
        "    if(s1.GIVEN==s2.GIVEN and s1.FAMILY == s2.FAMILY):\n",
        "      result=s1.Subject, OWL.sameAs, s2.Subject\n",
        "      g3.add(result)\n",
        "\n",
        "for s,p,o in g3:\n",
        "  print(s,p,o)"
      ],
      "execution_count": 39,
      "outputs": [
        {
          "output_type": "stream",
          "text": [
            "http://data.three.org#JohnDoe http://www.w3.org/2002/07/owl#sameAs http://data.four.org#0005\n",
            "http://data.three.org#SaraJones http://www.w3.org/2002/07/owl#sameAs http://data.four.org#0001\n"
          ],
          "name": "stdout"
        }
      ]
    }
  ]
}