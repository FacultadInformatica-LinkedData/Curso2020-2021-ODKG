{
  "nbformat": 4,
  "nbformat_minor": 0,
  "metadata": {
    "colab": {
      "name": "Task07.ipynb",
      "provenance": [],
      "collapsed_sections": []
    },
    "kernelspec": {
      "name": "python3",
      "display_name": "Python 3"
    }
  },
  "cells": [
    {
      "cell_type": "markdown",
      "metadata": {
        "id": "nOOPLCHF7hLB"
      },
      "source": [
        "**Task 07: Querying RDF(s)**"
      ]
    },
    {
      "cell_type": "code",
      "metadata": {
        "id": "Yl9npCt8n6m-",
        "outputId": "5b02b40c-9338-4a12-e47e-0be283293a97",
        "colab": {
          "base_uri": "https://localhost:8080/",
          "height": 187
        }
      },
      "source": [
        "!pip install rdflib \n",
        "github_storage = \"https://raw.githubusercontent.com/FacultadInformatica-LinkedData/Curso2020-2021/master/Assignment4\""
      ],
      "execution_count": 2,
      "outputs": [
        {
          "output_type": "stream",
          "text": [
            "Collecting rdflib\n",
            "\u001b[?25l  Downloading https://files.pythonhosted.org/packages/d0/6b/6454aa1db753c0f8bc265a5bd5c10b5721a4bb24160fb4faf758cf6be8a1/rdflib-5.0.0-py3-none-any.whl (231kB)\n",
            "\u001b[K     |████████████████████████████████| 235kB 2.6MB/s \n",
            "\u001b[?25hRequirement already satisfied: six in /usr/local/lib/python3.6/dist-packages (from rdflib) (1.15.0)\n",
            "Collecting isodate\n",
            "\u001b[?25l  Downloading https://files.pythonhosted.org/packages/9b/9f/b36f7774ff5ea8e428fdcfc4bb332c39ee5b9362ddd3d40d9516a55221b2/isodate-0.6.0-py2.py3-none-any.whl (45kB)\n",
            "\u001b[K     |████████████████████████████████| 51kB 3.0MB/s \n",
            "\u001b[?25hRequirement already satisfied: pyparsing in /usr/local/lib/python3.6/dist-packages (from rdflib) (2.4.7)\n",
            "Installing collected packages: isodate, rdflib\n",
            "Successfully installed isodate-0.6.0 rdflib-5.0.0\n"
          ],
          "name": "stdout"
        }
      ]
    },
    {
      "cell_type": "markdown",
      "metadata": {
        "id": "XY7aPc86Bqoo"
      },
      "source": [
        "Read the RDF file"
      ]
    },
    {
      "cell_type": "code",
      "metadata": {
        "id": "9ERh415on7kF",
        "outputId": "99807532-31bc-450a-94c2-a7ca44a35240",
        "colab": {
          "base_uri": "https://localhost:8080/",
          "height": 34
        }
      },
      "source": [
        "from rdflib import Graph, Namespace, Literal\n",
        "from rdflib.namespace import RDF, RDFS\n",
        "g = Graph()\n",
        "g.namespace_manager.bind('ns', Namespace(\"http://somewhere#\"), override=False)\n",
        "g.namespace_manager.bind('vcard', Namespace(\"http://www.w3.org/2001/vcard-rdf/3.0#\"), override=False)\n",
        "g.parse(github_storage+\"/resources/example6.rdf\", format=\"xml\")"
      ],
      "execution_count": 3,
      "outputs": [
        {
          "output_type": "execute_result",
          "data": {
            "text/plain": [
              "<Graph identifier=Ne464e1ecca534b40ad4177d4ff02e08f (<class 'rdflib.graph.Graph'>)>"
            ]
          },
          "metadata": {
            "tags": []
          },
          "execution_count": 3
        }
      ]
    },
    {
      "cell_type": "markdown",
      "metadata": {
        "id": "qp1oe2Eddsvo"
      },
      "source": [
        "**TASK 7.1: List all subclasses of \"Person\" with RDFLib and SPARQL**"
      ]
    },
    {
      "cell_type": "code",
      "metadata": {
        "id": "slEohSkcnAfc",
        "outputId": "c0c2ec4a-ad96-4121-e0d4-459fdcae826d",
        "colab": {
          "base_uri": "https://localhost:8080/",
          "height": 85
        }
      },
      "source": [
        "from rdflib.plugins.sparql import prepareQuery\n",
        "\n",
        "\n",
        "ns = Namespace(\"http://somewhere#\")\n",
        "\n",
        "for s,p,o in g.triples((None, RDFS.subClassOf, None)):\n",
        "  print(s)\n",
        "\n",
        "q1 = prepareQuery('''\n",
        "  SELECT \n",
        "    ?subject\n",
        "  WHERE { \n",
        "    ?subject rdfs:subClassOf/rdfs:subClassOf* ns:Person. \n",
        "  }\n",
        "  ''',\n",
        "  initNs = { \"ns\": ns}\n",
        ")\n",
        "\n",
        "for r in g.query(q1):\n",
        "  print(r)"
      ],
      "execution_count": 30,
      "outputs": [
        {
          "output_type": "stream",
          "text": [
            "http://somewhere#Researcher\n",
            "http://somewhere#PhDstudent\n",
            "(rdflib.term.URIRef('http://somewhere#Researcher'),)\n",
            "(rdflib.term.URIRef('http://somewhere#PhDstudent'),)\n"
          ],
          "name": "stdout"
        }
      ]
    },
    {
      "cell_type": "markdown",
      "metadata": {
        "id": "gM3DASkTQQ5Y"
      },
      "source": [
        "**TASK 7.2: List all individuals of \"Person\" with RDFLib and SPARQL (remember the subClasses)**\n"
      ]
    },
    {
      "cell_type": "code",
      "metadata": {
        "id": "WfhUqLuGnA00",
        "outputId": "3ca81765-9368-4e6c-9c5f-a98b9ead3f1e",
        "colab": {
          "base_uri": "https://localhost:8080/",
          "height": 119
        }
      },
      "source": [
        "from rdflib.plugins.sparql import prepareQuery\n",
        "\n",
        "\n",
        "ns = Namespace(\"http://somewhere#\")\n",
        "\n",
        "for s,p,o in g.triples((None, RDF.type, ns.Person)):\n",
        "  print(s)\n",
        "for s,p,o in g.triples((None, RDF.type, ns.Researcher)):\n",
        "  print(s)\n",
        "\n",
        "q1 = prepareQuery('''\n",
        "  SELECT \n",
        "    ?subject\n",
        "  WHERE { \n",
        "    ?subject rdf:type/rdfs:subClassOf* ns:Person. \n",
        "  }\n",
        "  ''',\n",
        "  initNs = { \"ns\": ns}\n",
        ")\n",
        "\n",
        "\n",
        "for r in g.query(q1):\n",
        "  print(r)"
      ],
      "execution_count": 28,
      "outputs": [
        {
          "output_type": "stream",
          "text": [
            "http://somewhere#JohnSmith\n",
            "http://somewhere#SaraJones\n",
            "http://somewhere#JaneSmith\n",
            "(rdflib.term.URIRef('http://somewhere#JohnSmith'),)\n",
            "(rdflib.term.URIRef('http://somewhere#SaraJones'),)\n",
            "(rdflib.term.URIRef('http://somewhere#JaneSmith'),)\n"
          ],
          "name": "stdout"
        }
      ]
    },
    {
      "cell_type": "markdown",
      "metadata": {
        "id": "MXBqtBkJd22I"
      },
      "source": [
        "**TASK 7.3: List all individuals of \"Person\" and all their properties including their class with RDFLib and SPARQL**\n"
      ]
    },
    {
      "cell_type": "code",
      "metadata": {
        "id": "OLsgcSv4nBFc",
        "outputId": "a9f2fe5f-3cd4-429d-eb26-cbc2be6c8a0a",
        "colab": {
          "base_uri": "https://localhost:8080/",
          "height": 425
        }
      },
      "source": [
        "from rdflib.plugins.sparql import prepareQuery\n",
        "\n",
        "\n",
        "ns = Namespace(\"http://somewhere#\")\n",
        "\n",
        "for s,p,o in g.triples((None, RDF.type, ns.Person)):\n",
        "  for s2,p2,o2 in g.triples((s, None, None)):\n",
        "    print(s2,p2)\n",
        "for s,p,o in g.triples((None, RDFS.subClassOf, ns.Person)):\n",
        "  for s2,p2,o2 in g.triples((None, RDF.type, s)):\n",
        "    for s3,p3,o3 in g.triples((s2, None, None)):\n",
        "     print(s3, p3)\n",
        "\n",
        "q1 = prepareQuery('''\n",
        "  SELECT \n",
        "    ?subject ?prop\n",
        "  WHERE { \n",
        "    ?subject rdf:type/rdfs:subClassOf* ns:Person.\n",
        "    ?subject ?prop ?value\n",
        "  }\n",
        "  ''',\n",
        "  initNs = { \"ns\": ns}\n",
        ")\n",
        "\n",
        "\n",
        "\n",
        "for r in g.query(q1):\n",
        "  print(r)"
      ],
      "execution_count": 27,
      "outputs": [
        {
          "output_type": "stream",
          "text": [
            "http://somewhere#JohnSmith http://somewhere#http://www.w3.org/2001/vcard-rdf/3.0/Family\n",
            "http://somewhere#JohnSmith http://somewhere#http://www.w3.org/2001/vcard-rdf/3.0/Given\n",
            "http://somewhere#JohnSmith http://www.w3.org/1999/02/22-rdf-syntax-ns#type\n",
            "http://somewhere#JohnSmith http://somewhere#http://www.w3.org/2001/vcard-rdf/3.0/FN\n",
            "http://somewhere#SaraJones http://somewhere#http://www.w3.org/2001/vcard-rdf/3.0/FN\n",
            "http://somewhere#SaraJones http://somewhere#http://www.w3.org/2001/vcard-rdf/3.0/Given\n",
            "http://somewhere#SaraJones http://somewhere#http://www.w3.org/2001/vcard-rdf/3.0/Family\n",
            "http://somewhere#SaraJones http://www.w3.org/1999/02/22-rdf-syntax-ns#type\n",
            "http://somewhere#JaneSmith http://somewhere#http://www.w3.org/2001/vcard-rdf/3.0/FN\n",
            "http://somewhere#JaneSmith http://somewhere#http://www.w3.org/2001/vcard-rdf/3.0/Given\n",
            "http://somewhere#JaneSmith http://www.w3.org/1999/02/22-rdf-syntax-ns#type\n",
            "http://somewhere#JaneSmith http://somewhere#http://www.w3.org/2001/vcard-rdf/3.0/Family\n",
            "(rdflib.term.URIRef('http://somewhere#JohnSmith'), rdflib.term.URIRef('http://somewhere#http://www.w3.org/2001/vcard-rdf/3.0/Family'))\n",
            "(rdflib.term.URIRef('http://somewhere#JohnSmith'), rdflib.term.URIRef('http://somewhere#http://www.w3.org/2001/vcard-rdf/3.0/Given'))\n",
            "(rdflib.term.URIRef('http://somewhere#JohnSmith'), rdflib.term.URIRef('http://www.w3.org/1999/02/22-rdf-syntax-ns#type'))\n",
            "(rdflib.term.URIRef('http://somewhere#JohnSmith'), rdflib.term.URIRef('http://somewhere#http://www.w3.org/2001/vcard-rdf/3.0/FN'))\n",
            "(rdflib.term.URIRef('http://somewhere#SaraJones'), rdflib.term.URIRef('http://somewhere#http://www.w3.org/2001/vcard-rdf/3.0/FN'))\n",
            "(rdflib.term.URIRef('http://somewhere#SaraJones'), rdflib.term.URIRef('http://somewhere#http://www.w3.org/2001/vcard-rdf/3.0/Given'))\n",
            "(rdflib.term.URIRef('http://somewhere#SaraJones'), rdflib.term.URIRef('http://somewhere#http://www.w3.org/2001/vcard-rdf/3.0/Family'))\n",
            "(rdflib.term.URIRef('http://somewhere#SaraJones'), rdflib.term.URIRef('http://www.w3.org/1999/02/22-rdf-syntax-ns#type'))\n",
            "(rdflib.term.URIRef('http://somewhere#JaneSmith'), rdflib.term.URIRef('http://somewhere#http://www.w3.org/2001/vcard-rdf/3.0/FN'))\n",
            "(rdflib.term.URIRef('http://somewhere#JaneSmith'), rdflib.term.URIRef('http://somewhere#http://www.w3.org/2001/vcard-rdf/3.0/Given'))\n",
            "(rdflib.term.URIRef('http://somewhere#JaneSmith'), rdflib.term.URIRef('http://www.w3.org/1999/02/22-rdf-syntax-ns#type'))\n",
            "(rdflib.term.URIRef('http://somewhere#JaneSmith'), rdflib.term.URIRef('http://somewhere#http://www.w3.org/2001/vcard-rdf/3.0/Family'))\n"
          ],
          "name": "stdout"
        }
      ]
    }
  ]
}